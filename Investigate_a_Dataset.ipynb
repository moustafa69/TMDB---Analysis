{
 "cells": [
  {
   "cell_type": "markdown",
   "metadata": {},
   "source": [
    "\n",
    "\n",
    "# Project: Investigate a Dataset - [TMDB Movies]\n",
    "\n",
    "## Table of Contents\n",
    "<ul>\n",
    "<li><a href=\"#intro\">Introduction</a></li>\n",
    "<li><a href=\"#wrangling\">Data Wrangling</a></li>\n",
    "<li><a href=\"#eda\">Exploratory Data Analysis</a></li>\n",
    "<li><a href=\"#conclusions\">Conclusions</a></li>\n",
    "</ul>"
   ]
  },
  {
   "cell_type": "markdown",
   "metadata": {},
   "source": [
    "<a id='intro'></a>\n",
    "## Introduction\n",
    "\n",
    "### Dataset Description \n",
    "\n",
    "> In the world of cinema and production, there is always a competition between movies, that's why I chose the 1st dataset which consists of approximate values of 10900 movies to have investigations on to find out some treasures that were hidden, the dataset investigated consisted of 21 columns represents the movie attributes (Ex: movie name, director, budget, revenue, cast ....) and 10866 rows which represents the movies.\n",
    "\n",
    "\n",
    "### Question(s) for Analysis\n",
    ">The main question that will be addressed in this investigation are :\n",
    ">>1 - what is the genre that appered most in the dataset and if  it is correlated to number of movies made, revenue and profit ?\n",
    "\n",
    ">>2 - does the director has an influence on the revenue or popularity?!\n",
    "\n",
    ">>3 - Is there a relation between popularity and Revenue?!\n",
    "\n",
    ">>4-what season has the most propability to drop new movies?!\n",
    "\n"
   ]
  },
  {
   "cell_type": "code",
   "execution_count": 1,
   "metadata": {},
   "outputs": [],
   "source": [
    "# Use this cell to set up import statements for all of the packages that you\n",
    "#   plan to use.\n",
    "\n",
    "# Remember to include a 'magic word' so that your visualizations are plotted\n",
    "#   inline with the notebook. See this page for more:\n",
    "#   http://ipython.readthedocs.io/en/stable/interactive/magics.html\n",
    "import pandas as pd\n",
    "import numpy as np\n",
    "import matplotlib.pyplot as plt\n",
    "import seaborn as sns\n",
    "%matplotlib inline"
   ]
  },
  {
   "cell_type": "markdown",
   "metadata": {},
   "source": [
    "<a id='wrangling'></a>\n",
    "## Data Wrangling\n"
   ]
  },
  {
   "cell_type": "code",
   "execution_count": 3,
   "metadata": {},
   "outputs": [
    {
     "data": {
      "text/html": [
       "<div>\n",
       "<style scoped>\n",
       "    .dataframe tbody tr th:only-of-type {\n",
       "        vertical-align: middle;\n",
       "    }\n",
       "\n",
       "    .dataframe tbody tr th {\n",
       "        vertical-align: top;\n",
       "    }\n",
       "\n",
       "    .dataframe thead th {\n",
       "        text-align: right;\n",
       "    }\n",
       "</style>\n",
       "<table border=\"1\" class=\"dataframe\">\n",
       "  <thead>\n",
       "    <tr style=\"text-align: right;\">\n",
       "      <th></th>\n",
       "      <th>id</th>\n",
       "      <th>imdb_id</th>\n",
       "      <th>popularity</th>\n",
       "      <th>budget</th>\n",
       "      <th>revenue</th>\n",
       "      <th>original_title</th>\n",
       "      <th>cast</th>\n",
       "      <th>homepage</th>\n",
       "      <th>director</th>\n",
       "      <th>tagline</th>\n",
       "      <th>...</th>\n",
       "      <th>overview</th>\n",
       "      <th>runtime</th>\n",
       "      <th>genres</th>\n",
       "      <th>production_companies</th>\n",
       "      <th>release_date</th>\n",
       "      <th>vote_count</th>\n",
       "      <th>vote_average</th>\n",
       "      <th>release_year</th>\n",
       "      <th>budget_adj</th>\n",
       "      <th>revenue_adj</th>\n",
       "    </tr>\n",
       "  </thead>\n",
       "  <tbody>\n",
       "    <tr>\n",
       "      <th>0</th>\n",
       "      <td>135397</td>\n",
       "      <td>tt0369610</td>\n",
       "      <td>32.985763</td>\n",
       "      <td>150000000</td>\n",
       "      <td>1513528810</td>\n",
       "      <td>Jurassic World</td>\n",
       "      <td>Chris Pratt|Bryce Dallas Howard|Irrfan Khan|Vi...</td>\n",
       "      <td>http://www.jurassicworld.com/</td>\n",
       "      <td>Colin Trevorrow</td>\n",
       "      <td>The park is open.</td>\n",
       "      <td>...</td>\n",
       "      <td>Twenty-two years after the events of Jurassic ...</td>\n",
       "      <td>124</td>\n",
       "      <td>Action|Adventure|Science Fiction|Thriller</td>\n",
       "      <td>Universal Studios|Amblin Entertainment|Legenda...</td>\n",
       "      <td>6/9/15</td>\n",
       "      <td>5562</td>\n",
       "      <td>6.5</td>\n",
       "      <td>2015</td>\n",
       "      <td>1.379999e+08</td>\n",
       "      <td>1.392446e+09</td>\n",
       "    </tr>\n",
       "    <tr>\n",
       "      <th>1</th>\n",
       "      <td>76341</td>\n",
       "      <td>tt1392190</td>\n",
       "      <td>28.419936</td>\n",
       "      <td>150000000</td>\n",
       "      <td>378436354</td>\n",
       "      <td>Mad Max: Fury Road</td>\n",
       "      <td>Tom Hardy|Charlize Theron|Hugh Keays-Byrne|Nic...</td>\n",
       "      <td>http://www.madmaxmovie.com/</td>\n",
       "      <td>George Miller</td>\n",
       "      <td>What a Lovely Day.</td>\n",
       "      <td>...</td>\n",
       "      <td>An apocalyptic story set in the furthest reach...</td>\n",
       "      <td>120</td>\n",
       "      <td>Action|Adventure|Science Fiction|Thriller</td>\n",
       "      <td>Village Roadshow Pictures|Kennedy Miller Produ...</td>\n",
       "      <td>5/13/15</td>\n",
       "      <td>6185</td>\n",
       "      <td>7.1</td>\n",
       "      <td>2015</td>\n",
       "      <td>1.379999e+08</td>\n",
       "      <td>3.481613e+08</td>\n",
       "    </tr>\n",
       "    <tr>\n",
       "      <th>2</th>\n",
       "      <td>262500</td>\n",
       "      <td>tt2908446</td>\n",
       "      <td>13.112507</td>\n",
       "      <td>110000000</td>\n",
       "      <td>295238201</td>\n",
       "      <td>Insurgent</td>\n",
       "      <td>Shailene Woodley|Theo James|Kate Winslet|Ansel...</td>\n",
       "      <td>http://www.thedivergentseries.movie/#insurgent</td>\n",
       "      <td>Robert Schwentke</td>\n",
       "      <td>One Choice Can Destroy You</td>\n",
       "      <td>...</td>\n",
       "      <td>Beatrice Prior must confront her inner demons ...</td>\n",
       "      <td>119</td>\n",
       "      <td>Adventure|Science Fiction|Thriller</td>\n",
       "      <td>Summit Entertainment|Mandeville Films|Red Wago...</td>\n",
       "      <td>3/18/15</td>\n",
       "      <td>2480</td>\n",
       "      <td>6.3</td>\n",
       "      <td>2015</td>\n",
       "      <td>1.012000e+08</td>\n",
       "      <td>2.716190e+08</td>\n",
       "    </tr>\n",
       "    <tr>\n",
       "      <th>3</th>\n",
       "      <td>140607</td>\n",
       "      <td>tt2488496</td>\n",
       "      <td>11.173104</td>\n",
       "      <td>200000000</td>\n",
       "      <td>2068178225</td>\n",
       "      <td>Star Wars: The Force Awakens</td>\n",
       "      <td>Harrison Ford|Mark Hamill|Carrie Fisher|Adam D...</td>\n",
       "      <td>http://www.starwars.com/films/star-wars-episod...</td>\n",
       "      <td>J.J. Abrams</td>\n",
       "      <td>Every generation has a story.</td>\n",
       "      <td>...</td>\n",
       "      <td>Thirty years after defeating the Galactic Empi...</td>\n",
       "      <td>136</td>\n",
       "      <td>Action|Adventure|Science Fiction|Fantasy</td>\n",
       "      <td>Lucasfilm|Truenorth Productions|Bad Robot</td>\n",
       "      <td>12/15/15</td>\n",
       "      <td>5292</td>\n",
       "      <td>7.5</td>\n",
       "      <td>2015</td>\n",
       "      <td>1.839999e+08</td>\n",
       "      <td>1.902723e+09</td>\n",
       "    </tr>\n",
       "    <tr>\n",
       "      <th>4</th>\n",
       "      <td>168259</td>\n",
       "      <td>tt2820852</td>\n",
       "      <td>9.335014</td>\n",
       "      <td>190000000</td>\n",
       "      <td>1506249360</td>\n",
       "      <td>Furious 7</td>\n",
       "      <td>Vin Diesel|Paul Walker|Jason Statham|Michelle ...</td>\n",
       "      <td>http://www.furious7.com/</td>\n",
       "      <td>James Wan</td>\n",
       "      <td>Vengeance Hits Home</td>\n",
       "      <td>...</td>\n",
       "      <td>Deckard Shaw seeks revenge against Dominic Tor...</td>\n",
       "      <td>137</td>\n",
       "      <td>Action|Crime|Thriller</td>\n",
       "      <td>Universal Pictures|Original Film|Media Rights ...</td>\n",
       "      <td>4/1/15</td>\n",
       "      <td>2947</td>\n",
       "      <td>7.3</td>\n",
       "      <td>2015</td>\n",
       "      <td>1.747999e+08</td>\n",
       "      <td>1.385749e+09</td>\n",
       "    </tr>\n",
       "  </tbody>\n",
       "</table>\n",
       "<p>5 rows × 21 columns</p>\n",
       "</div>"
      ],
      "text/plain": [
       "       id    imdb_id  popularity     budget     revenue  \\\n",
       "0  135397  tt0369610   32.985763  150000000  1513528810   \n",
       "1   76341  tt1392190   28.419936  150000000   378436354   \n",
       "2  262500  tt2908446   13.112507  110000000   295238201   \n",
       "3  140607  tt2488496   11.173104  200000000  2068178225   \n",
       "4  168259  tt2820852    9.335014  190000000  1506249360   \n",
       "\n",
       "                 original_title  \\\n",
       "0                Jurassic World   \n",
       "1            Mad Max: Fury Road   \n",
       "2                     Insurgent   \n",
       "3  Star Wars: The Force Awakens   \n",
       "4                     Furious 7   \n",
       "\n",
       "                                                cast  \\\n",
       "0  Chris Pratt|Bryce Dallas Howard|Irrfan Khan|Vi...   \n",
       "1  Tom Hardy|Charlize Theron|Hugh Keays-Byrne|Nic...   \n",
       "2  Shailene Woodley|Theo James|Kate Winslet|Ansel...   \n",
       "3  Harrison Ford|Mark Hamill|Carrie Fisher|Adam D...   \n",
       "4  Vin Diesel|Paul Walker|Jason Statham|Michelle ...   \n",
       "\n",
       "                                            homepage          director  \\\n",
       "0                      http://www.jurassicworld.com/   Colin Trevorrow   \n",
       "1                        http://www.madmaxmovie.com/     George Miller   \n",
       "2     http://www.thedivergentseries.movie/#insurgent  Robert Schwentke   \n",
       "3  http://www.starwars.com/films/star-wars-episod...       J.J. Abrams   \n",
       "4                           http://www.furious7.com/         James Wan   \n",
       "\n",
       "                         tagline  ...  \\\n",
       "0              The park is open.  ...   \n",
       "1             What a Lovely Day.  ...   \n",
       "2     One Choice Can Destroy You  ...   \n",
       "3  Every generation has a story.  ...   \n",
       "4            Vengeance Hits Home  ...   \n",
       "\n",
       "                                            overview runtime  \\\n",
       "0  Twenty-two years after the events of Jurassic ...     124   \n",
       "1  An apocalyptic story set in the furthest reach...     120   \n",
       "2  Beatrice Prior must confront her inner demons ...     119   \n",
       "3  Thirty years after defeating the Galactic Empi...     136   \n",
       "4  Deckard Shaw seeks revenge against Dominic Tor...     137   \n",
       "\n",
       "                                      genres  \\\n",
       "0  Action|Adventure|Science Fiction|Thriller   \n",
       "1  Action|Adventure|Science Fiction|Thriller   \n",
       "2         Adventure|Science Fiction|Thriller   \n",
       "3   Action|Adventure|Science Fiction|Fantasy   \n",
       "4                      Action|Crime|Thriller   \n",
       "\n",
       "                                production_companies release_date vote_count  \\\n",
       "0  Universal Studios|Amblin Entertainment|Legenda...       6/9/15       5562   \n",
       "1  Village Roadshow Pictures|Kennedy Miller Produ...      5/13/15       6185   \n",
       "2  Summit Entertainment|Mandeville Films|Red Wago...      3/18/15       2480   \n",
       "3          Lucasfilm|Truenorth Productions|Bad Robot     12/15/15       5292   \n",
       "4  Universal Pictures|Original Film|Media Rights ...       4/1/15       2947   \n",
       "\n",
       "   vote_average  release_year    budget_adj   revenue_adj  \n",
       "0           6.5          2015  1.379999e+08  1.392446e+09  \n",
       "1           7.1          2015  1.379999e+08  3.481613e+08  \n",
       "2           6.3          2015  1.012000e+08  2.716190e+08  \n",
       "3           7.5          2015  1.839999e+08  1.902723e+09  \n",
       "4           7.3          2015  1.747999e+08  1.385749e+09  \n",
       "\n",
       "[5 rows x 21 columns]"
      ]
     },
     "execution_count": 3,
     "metadata": {},
     "output_type": "execute_result"
    }
   ],
   "source": [
    "# Load your data and print out a few lines. Perform operations to inspect data\n",
    "#   types and look for instances of missing or possibly errant data.\n",
    "df = pd.read_csv('tmdb-movies.csv')\n",
    "df.head()\n"
   ]
  },
  {
   "cell_type": "markdown",
   "metadata": {},
   "source": [
    "\n",
    "### Data Cleaning\n",
    "\n",
    " "
   ]
  },
  {
   "cell_type": "code",
   "execution_count": 4,
   "metadata": {},
   "outputs": [
    {
     "name": "stdout",
     "output_type": "stream",
     "text": [
      "<class 'pandas.core.frame.DataFrame'>\n",
      "RangeIndex: 10866 entries, 0 to 10865\n",
      "Data columns (total 21 columns):\n",
      " #   Column                Non-Null Count  Dtype  \n",
      "---  ------                --------------  -----  \n",
      " 0   id                    10866 non-null  int64  \n",
      " 1   imdb_id               10856 non-null  object \n",
      " 2   popularity            10866 non-null  float64\n",
      " 3   budget                10866 non-null  int64  \n",
      " 4   revenue               10866 non-null  int64  \n",
      " 5   original_title        10866 non-null  object \n",
      " 6   cast                  10790 non-null  object \n",
      " 7   homepage              2936 non-null   object \n",
      " 8   director              10822 non-null  object \n",
      " 9   tagline               8042 non-null   object \n",
      " 10  keywords              9373 non-null   object \n",
      " 11  overview              10862 non-null  object \n",
      " 12  runtime               10866 non-null  int64  \n",
      " 13  genres                10843 non-null  object \n",
      " 14  production_companies  9836 non-null   object \n",
      " 15  release_date          10866 non-null  object \n",
      " 16  vote_count            10866 non-null  int64  \n",
      " 17  vote_average          10866 non-null  float64\n",
      " 18  release_year          10866 non-null  int64  \n",
      " 19  budget_adj            10866 non-null  float64\n",
      " 20  revenue_adj           10866 non-null  float64\n",
      "dtypes: float64(4), int64(6), object(11)\n",
      "memory usage: 1.7+ MB\n"
     ]
    }
   ],
   "source": [
    "df.info()"
   ]
  },
  {
   "cell_type": "code",
   "execution_count": 5,
   "metadata": {},
   "outputs": [],
   "source": [
    "df.drop(['homepage','id','imdb_id','tagline','keywords','overview','budget_adj','revenue_adj'], axis=1, inplace=True)"
   ]
  },
  {
   "cell_type": "markdown",
   "metadata": {},
   "source": [
    "#### here we are going to drop these columns, we will not need it in this investigation"
   ]
  },
  {
   "cell_type": "code",
   "execution_count": 6,
   "metadata": {},
   "outputs": [],
   "source": [
    "def split_delete(df,column):\n",
    "    df[column] = df[column].str.split('|', expand = True)[0]\n",
    "    "
   ]
  },
  {
   "cell_type": "code",
   "execution_count": 7,
   "metadata": {},
   "outputs": [],
   "source": [
    "split_delete(df,'cast')"
   ]
  },
  {
   "cell_type": "code",
   "execution_count": 8,
   "metadata": {},
   "outputs": [],
   "source": [
    "df.rename(columns = {'cast':'main_actor'}, inplace =True)"
   ]
  },
  {
   "cell_type": "markdown",
   "metadata": {},
   "source": [
    "##### changed the cast columns to main actor only and dragged the member of the cast"
   ]
  },
  {
   "cell_type": "code",
   "execution_count": 10,
   "metadata": {},
   "outputs": [],
   "source": [
    "split_delete(df, 'genres')"
   ]
  },
  {
   "cell_type": "code",
   "execution_count": 11,
   "metadata": {},
   "outputs": [],
   "source": [
    "df.rename(columns = {'genres':'main_genre'}, inplace =True)"
   ]
  },
  {
   "cell_type": "markdown",
   "metadata": {},
   "source": [
    "##### took the main genre of all genres given"
   ]
  },
  {
   "cell_type": "code",
   "execution_count": 12,
   "metadata": {},
   "outputs": [],
   "source": [
    "split_delete(df,'production_companies')"
   ]
  },
  {
   "cell_type": "code",
   "execution_count": 13,
   "metadata": {},
   "outputs": [],
   "source": [
    "df.rename(columns = {'production_companies': \"production_company\"}, inplace = True)"
   ]
  },
  {
   "cell_type": "markdown",
   "metadata": {},
   "source": [
    "##### reducing the number of production companies"
   ]
  },
  {
   "cell_type": "code",
   "execution_count": 14,
   "metadata": {},
   "outputs": [],
   "source": [
    "df.rename(columns = {'original_title': \"movie_title\"}, inplace = True)"
   ]
  },
  {
   "cell_type": "code",
   "execution_count": 15,
   "metadata": {},
   "outputs": [],
   "source": [
    "df['release_date'] = pd.to_datetime(df['release_date']).dt.month_name()"
   ]
  },
  {
   "cell_type": "code",
   "execution_count": 16,
   "metadata": {},
   "outputs": [],
   "source": [
    "df.rename(columns = {'release_date':'release_month', }, inplace = True)"
   ]
  },
  {
   "cell_type": "markdown",
   "metadata": {},
   "source": [
    "###### changing the column of release date to release month, we will use it later"
   ]
  },
  {
   "cell_type": "code",
   "execution_count": 17,
   "metadata": {},
   "outputs": [],
   "source": [
    "df.insert(3, 'profit', df['revenue'] - df['budget'])"
   ]
  },
  {
   "cell_type": "markdown",
   "metadata": {},
   "source": [
    "##### inserting a new column (profit) "
   ]
  },
  {
   "cell_type": "code",
   "execution_count": 18,
   "metadata": {},
   "outputs": [
    {
     "data": {
      "text/html": [
       "<div>\n",
       "<style scoped>\n",
       "    .dataframe tbody tr th:only-of-type {\n",
       "        vertical-align: middle;\n",
       "    }\n",
       "\n",
       "    .dataframe tbody tr th {\n",
       "        vertical-align: top;\n",
       "    }\n",
       "\n",
       "    .dataframe thead th {\n",
       "        text-align: right;\n",
       "    }\n",
       "</style>\n",
       "<table border=\"1\" class=\"dataframe\">\n",
       "  <thead>\n",
       "    <tr style=\"text-align: right;\">\n",
       "      <th></th>\n",
       "      <th>popularity</th>\n",
       "      <th>budget</th>\n",
       "      <th>revenue</th>\n",
       "      <th>profit</th>\n",
       "      <th>movie_title</th>\n",
       "      <th>main_actor</th>\n",
       "      <th>director</th>\n",
       "      <th>runtime</th>\n",
       "      <th>main_genre</th>\n",
       "      <th>production_company</th>\n",
       "      <th>release_month</th>\n",
       "      <th>vote_count</th>\n",
       "      <th>vote_average</th>\n",
       "      <th>release_year</th>\n",
       "    </tr>\n",
       "  </thead>\n",
       "  <tbody>\n",
       "    <tr>\n",
       "      <th>0</th>\n",
       "      <td>32.985763</td>\n",
       "      <td>150000000</td>\n",
       "      <td>1513528810</td>\n",
       "      <td>1363528810</td>\n",
       "      <td>Jurassic World</td>\n",
       "      <td>Chris Pratt</td>\n",
       "      <td>Colin Trevorrow</td>\n",
       "      <td>124</td>\n",
       "      <td>Action</td>\n",
       "      <td>Universal Studios</td>\n",
       "      <td>June</td>\n",
       "      <td>5562</td>\n",
       "      <td>6.5</td>\n",
       "      <td>2015</td>\n",
       "    </tr>\n",
       "    <tr>\n",
       "      <th>1</th>\n",
       "      <td>28.419936</td>\n",
       "      <td>150000000</td>\n",
       "      <td>378436354</td>\n",
       "      <td>228436354</td>\n",
       "      <td>Mad Max: Fury Road</td>\n",
       "      <td>Tom Hardy</td>\n",
       "      <td>George Miller</td>\n",
       "      <td>120</td>\n",
       "      <td>Action</td>\n",
       "      <td>Village Roadshow Pictures</td>\n",
       "      <td>May</td>\n",
       "      <td>6185</td>\n",
       "      <td>7.1</td>\n",
       "      <td>2015</td>\n",
       "    </tr>\n",
       "    <tr>\n",
       "      <th>2</th>\n",
       "      <td>13.112507</td>\n",
       "      <td>110000000</td>\n",
       "      <td>295238201</td>\n",
       "      <td>185238201</td>\n",
       "      <td>Insurgent</td>\n",
       "      <td>Shailene Woodley</td>\n",
       "      <td>Robert Schwentke</td>\n",
       "      <td>119</td>\n",
       "      <td>Adventure</td>\n",
       "      <td>Summit Entertainment</td>\n",
       "      <td>March</td>\n",
       "      <td>2480</td>\n",
       "      <td>6.3</td>\n",
       "      <td>2015</td>\n",
       "    </tr>\n",
       "    <tr>\n",
       "      <th>3</th>\n",
       "      <td>11.173104</td>\n",
       "      <td>200000000</td>\n",
       "      <td>2068178225</td>\n",
       "      <td>1868178225</td>\n",
       "      <td>Star Wars: The Force Awakens</td>\n",
       "      <td>Harrison Ford</td>\n",
       "      <td>J.J. Abrams</td>\n",
       "      <td>136</td>\n",
       "      <td>Action</td>\n",
       "      <td>Lucasfilm</td>\n",
       "      <td>December</td>\n",
       "      <td>5292</td>\n",
       "      <td>7.5</td>\n",
       "      <td>2015</td>\n",
       "    </tr>\n",
       "    <tr>\n",
       "      <th>4</th>\n",
       "      <td>9.335014</td>\n",
       "      <td>190000000</td>\n",
       "      <td>1506249360</td>\n",
       "      <td>1316249360</td>\n",
       "      <td>Furious 7</td>\n",
       "      <td>Vin Diesel</td>\n",
       "      <td>James Wan</td>\n",
       "      <td>137</td>\n",
       "      <td>Action</td>\n",
       "      <td>Universal Pictures</td>\n",
       "      <td>April</td>\n",
       "      <td>2947</td>\n",
       "      <td>7.3</td>\n",
       "      <td>2015</td>\n",
       "    </tr>\n",
       "  </tbody>\n",
       "</table>\n",
       "</div>"
      ],
      "text/plain": [
       "   popularity     budget     revenue      profit  \\\n",
       "0   32.985763  150000000  1513528810  1363528810   \n",
       "1   28.419936  150000000   378436354   228436354   \n",
       "2   13.112507  110000000   295238201   185238201   \n",
       "3   11.173104  200000000  2068178225  1868178225   \n",
       "4    9.335014  190000000  1506249360  1316249360   \n",
       "\n",
       "                    movie_title        main_actor          director  runtime  \\\n",
       "0                Jurassic World       Chris Pratt   Colin Trevorrow      124   \n",
       "1            Mad Max: Fury Road         Tom Hardy     George Miller      120   \n",
       "2                     Insurgent  Shailene Woodley  Robert Schwentke      119   \n",
       "3  Star Wars: The Force Awakens     Harrison Ford       J.J. Abrams      136   \n",
       "4                     Furious 7        Vin Diesel         James Wan      137   \n",
       "\n",
       "  main_genre         production_company release_month  vote_count  \\\n",
       "0     Action          Universal Studios          June        5562   \n",
       "1     Action  Village Roadshow Pictures           May        6185   \n",
       "2  Adventure       Summit Entertainment         March        2480   \n",
       "3     Action                  Lucasfilm      December        5292   \n",
       "4     Action         Universal Pictures         April        2947   \n",
       "\n",
       "   vote_average  release_year  \n",
       "0           6.5          2015  \n",
       "1           7.1          2015  \n",
       "2           6.3          2015  \n",
       "3           7.5          2015  \n",
       "4           7.3          2015  "
      ]
     },
     "execution_count": 18,
     "metadata": {},
     "output_type": "execute_result"
    }
   ],
   "source": [
    "df.head()"
   ]
  },
  {
   "cell_type": "code",
   "execution_count": 19,
   "metadata": {},
   "outputs": [
    {
     "name": "stdout",
     "output_type": "stream",
     "text": [
      "<class 'pandas.core.frame.DataFrame'>\n",
      "RangeIndex: 10866 entries, 0 to 10865\n",
      "Data columns (total 14 columns):\n",
      " #   Column              Non-Null Count  Dtype  \n",
      "---  ------              --------------  -----  \n",
      " 0   popularity          10866 non-null  float64\n",
      " 1   budget              10866 non-null  int64  \n",
      " 2   revenue             10866 non-null  int64  \n",
      " 3   profit              10866 non-null  int64  \n",
      " 4   movie_title         10866 non-null  object \n",
      " 5   main_actor          10790 non-null  object \n",
      " 6   director            10822 non-null  object \n",
      " 7   runtime             10866 non-null  int64  \n",
      " 8   main_genre          10843 non-null  object \n",
      " 9   production_company  9836 non-null   object \n",
      " 10  release_month       10866 non-null  object \n",
      " 11  vote_count          10866 non-null  int64  \n",
      " 12  vote_average        10866 non-null  float64\n",
      " 13  release_year        10866 non-null  int64  \n",
      "dtypes: float64(2), int64(6), object(6)\n",
      "memory usage: 1.2+ MB\n"
     ]
    }
   ],
   "source": [
    "df.info()"
   ]
  },
  {
   "cell_type": "code",
   "execution_count": 20,
   "metadata": {},
   "outputs": [
    {
     "data": {
      "text/plain": [
       "1"
      ]
     },
     "execution_count": 20,
     "metadata": {},
     "output_type": "execute_result"
    }
   ],
   "source": [
    "df.duplicated().sum()"
   ]
  },
  {
   "cell_type": "code",
   "execution_count": 21,
   "metadata": {},
   "outputs": [],
   "source": [
    "df.drop_duplicates(inplace = True)"
   ]
  },
  {
   "cell_type": "code",
   "execution_count": 22,
   "metadata": {},
   "outputs": [
    {
     "data": {
      "text/plain": [
       "0"
      ]
     },
     "execution_count": 22,
     "metadata": {},
     "output_type": "execute_result"
    }
   ],
   "source": [
    "df.duplicated().sum()"
   ]
  },
  {
   "cell_type": "markdown",
   "metadata": {},
   "source": [
    "##### successfully deleting duplicates"
   ]
  },
  {
   "cell_type": "code",
   "execution_count": 23,
   "metadata": {},
   "outputs": [],
   "source": [
    "split_delete(df,'director')"
   ]
  },
  {
   "cell_type": "code",
   "execution_count": 24,
   "metadata": {},
   "outputs": [
    {
     "data": {
      "text/plain": [
       "popularity               0\n",
       "budget                   0\n",
       "revenue                  0\n",
       "profit                   0\n",
       "movie_title              0\n",
       "main_actor              76\n",
       "director                44\n",
       "runtime                  0\n",
       "main_genre              23\n",
       "production_company    1030\n",
       "release_month            0\n",
       "vote_count               0\n",
       "vote_average             0\n",
       "release_year             0\n",
       "dtype: int64"
      ]
     },
     "execution_count": 24,
     "metadata": {},
     "output_type": "execute_result"
    }
   ],
   "source": [
    "df.isnull().sum()"
   ]
  },
  {
   "cell_type": "code",
   "execution_count": 25,
   "metadata": {},
   "outputs": [],
   "source": [
    "df.fillna('Not Specified', inplace=True)"
   ]
  },
  {
   "cell_type": "code",
   "execution_count": 26,
   "metadata": {},
   "outputs": [
    {
     "data": {
      "text/plain": [
       "popularity            0\n",
       "budget                0\n",
       "revenue               0\n",
       "profit                0\n",
       "movie_title           0\n",
       "main_actor            0\n",
       "director              0\n",
       "runtime               0\n",
       "main_genre            0\n",
       "production_company    0\n",
       "release_month         0\n",
       "vote_count            0\n",
       "vote_average          0\n",
       "release_year          0\n",
       "dtype: int64"
      ]
     },
     "execution_count": 26,
     "metadata": {},
     "output_type": "execute_result"
    }
   ],
   "source": [
    "df.isnull().sum()"
   ]
  },
  {
   "cell_type": "markdown",
   "metadata": {},
   "source": [
    "##### filling all nan value with string \"not specified\""
   ]
  },
  {
   "cell_type": "code",
   "execution_count": 27,
   "metadata": {},
   "outputs": [
    {
     "data": {
      "text/html": [
       "<div>\n",
       "<style scoped>\n",
       "    .dataframe tbody tr th:only-of-type {\n",
       "        vertical-align: middle;\n",
       "    }\n",
       "\n",
       "    .dataframe tbody tr th {\n",
       "        vertical-align: top;\n",
       "    }\n",
       "\n",
       "    .dataframe thead th {\n",
       "        text-align: right;\n",
       "    }\n",
       "</style>\n",
       "<table border=\"1\" class=\"dataframe\">\n",
       "  <thead>\n",
       "    <tr style=\"text-align: right;\">\n",
       "      <th></th>\n",
       "      <th>popularity</th>\n",
       "      <th>budget</th>\n",
       "      <th>revenue</th>\n",
       "      <th>profit</th>\n",
       "      <th>runtime</th>\n",
       "      <th>vote_count</th>\n",
       "      <th>vote_average</th>\n",
       "      <th>release_year</th>\n",
       "    </tr>\n",
       "  </thead>\n",
       "  <tbody>\n",
       "    <tr>\n",
       "      <th>count</th>\n",
       "      <td>10865.000000</td>\n",
       "      <td>1.086500e+04</td>\n",
       "      <td>1.086500e+04</td>\n",
       "      <td>1.086500e+04</td>\n",
       "      <td>10865.000000</td>\n",
       "      <td>10865.000000</td>\n",
       "      <td>10865.000000</td>\n",
       "      <td>10865.000000</td>\n",
       "    </tr>\n",
       "    <tr>\n",
       "      <th>mean</th>\n",
       "      <td>0.646446</td>\n",
       "      <td>1.462429e+07</td>\n",
       "      <td>3.982690e+07</td>\n",
       "      <td>2.520261e+07</td>\n",
       "      <td>102.071790</td>\n",
       "      <td>217.399632</td>\n",
       "      <td>5.975012</td>\n",
       "      <td>2001.321859</td>\n",
       "    </tr>\n",
       "    <tr>\n",
       "      <th>std</th>\n",
       "      <td>1.000231</td>\n",
       "      <td>3.091428e+07</td>\n",
       "      <td>1.170083e+08</td>\n",
       "      <td>9.659103e+07</td>\n",
       "      <td>31.382701</td>\n",
       "      <td>575.644627</td>\n",
       "      <td>0.935138</td>\n",
       "      <td>12.813260</td>\n",
       "    </tr>\n",
       "    <tr>\n",
       "      <th>min</th>\n",
       "      <td>0.000065</td>\n",
       "      <td>0.000000e+00</td>\n",
       "      <td>0.000000e+00</td>\n",
       "      <td>-4.139124e+08</td>\n",
       "      <td>0.000000</td>\n",
       "      <td>10.000000</td>\n",
       "      <td>1.500000</td>\n",
       "      <td>1960.000000</td>\n",
       "    </tr>\n",
       "    <tr>\n",
       "      <th>25%</th>\n",
       "      <td>0.207575</td>\n",
       "      <td>0.000000e+00</td>\n",
       "      <td>0.000000e+00</td>\n",
       "      <td>0.000000e+00</td>\n",
       "      <td>90.000000</td>\n",
       "      <td>17.000000</td>\n",
       "      <td>5.400000</td>\n",
       "      <td>1995.000000</td>\n",
       "    </tr>\n",
       "    <tr>\n",
       "      <th>50%</th>\n",
       "      <td>0.383831</td>\n",
       "      <td>0.000000e+00</td>\n",
       "      <td>0.000000e+00</td>\n",
       "      <td>0.000000e+00</td>\n",
       "      <td>99.000000</td>\n",
       "      <td>38.000000</td>\n",
       "      <td>6.000000</td>\n",
       "      <td>2006.000000</td>\n",
       "    </tr>\n",
       "    <tr>\n",
       "      <th>75%</th>\n",
       "      <td>0.713857</td>\n",
       "      <td>1.500000e+07</td>\n",
       "      <td>2.400000e+07</td>\n",
       "      <td>9.092453e+06</td>\n",
       "      <td>111.000000</td>\n",
       "      <td>146.000000</td>\n",
       "      <td>6.600000</td>\n",
       "      <td>2011.000000</td>\n",
       "    </tr>\n",
       "    <tr>\n",
       "      <th>max</th>\n",
       "      <td>32.985763</td>\n",
       "      <td>4.250000e+08</td>\n",
       "      <td>2.781506e+09</td>\n",
       "      <td>2.544506e+09</td>\n",
       "      <td>900.000000</td>\n",
       "      <td>9767.000000</td>\n",
       "      <td>9.200000</td>\n",
       "      <td>2015.000000</td>\n",
       "    </tr>\n",
       "  </tbody>\n",
       "</table>\n",
       "</div>"
      ],
      "text/plain": [
       "         popularity        budget       revenue        profit       runtime  \\\n",
       "count  10865.000000  1.086500e+04  1.086500e+04  1.086500e+04  10865.000000   \n",
       "mean       0.646446  1.462429e+07  3.982690e+07  2.520261e+07    102.071790   \n",
       "std        1.000231  3.091428e+07  1.170083e+08  9.659103e+07     31.382701   \n",
       "min        0.000065  0.000000e+00  0.000000e+00 -4.139124e+08      0.000000   \n",
       "25%        0.207575  0.000000e+00  0.000000e+00  0.000000e+00     90.000000   \n",
       "50%        0.383831  0.000000e+00  0.000000e+00  0.000000e+00     99.000000   \n",
       "75%        0.713857  1.500000e+07  2.400000e+07  9.092453e+06    111.000000   \n",
       "max       32.985763  4.250000e+08  2.781506e+09  2.544506e+09    900.000000   \n",
       "\n",
       "         vote_count  vote_average  release_year  \n",
       "count  10865.000000  10865.000000  10865.000000  \n",
       "mean     217.399632      5.975012   2001.321859  \n",
       "std      575.644627      0.935138     12.813260  \n",
       "min       10.000000      1.500000   1960.000000  \n",
       "25%       17.000000      5.400000   1995.000000  \n",
       "50%       38.000000      6.000000   2006.000000  \n",
       "75%      146.000000      6.600000   2011.000000  \n",
       "max     9767.000000      9.200000   2015.000000  "
      ]
     },
     "execution_count": 27,
     "metadata": {},
     "output_type": "execute_result"
    }
   ],
   "source": [
    "df.describe()"
   ]
  },
  {
   "cell_type": "code",
   "execution_count": 29,
   "metadata": {},
   "outputs": [],
   "source": [
    "def replace_by_mean(df, column):\n",
    "    df[column]=df[column].replace(0,df[column].mean())\n",
    "    "
   ]
  },
  {
   "cell_type": "code",
   "execution_count": 30,
   "metadata": {},
   "outputs": [],
   "source": [
    "replace_by_mean(df, 'revenue')\n",
    "replace_by_mean(df, 'budget')"
   ]
  },
  {
   "cell_type": "code",
   "execution_count": 32,
   "metadata": {},
   "outputs": [
    {
     "data": {
      "text/html": [
       "<div>\n",
       "<style scoped>\n",
       "    .dataframe tbody tr th:only-of-type {\n",
       "        vertical-align: middle;\n",
       "    }\n",
       "\n",
       "    .dataframe tbody tr th {\n",
       "        vertical-align: top;\n",
       "    }\n",
       "\n",
       "    .dataframe thead th {\n",
       "        text-align: right;\n",
       "    }\n",
       "</style>\n",
       "<table border=\"1\" class=\"dataframe\">\n",
       "  <thead>\n",
       "    <tr style=\"text-align: right;\">\n",
       "      <th></th>\n",
       "      <th>popularity</th>\n",
       "      <th>budget</th>\n",
       "      <th>revenue</th>\n",
       "      <th>profit</th>\n",
       "      <th>runtime</th>\n",
       "      <th>vote_count</th>\n",
       "      <th>vote_average</th>\n",
       "      <th>release_year</th>\n",
       "    </tr>\n",
       "  </thead>\n",
       "  <tbody>\n",
       "    <tr>\n",
       "      <th>count</th>\n",
       "      <td>10865.000000</td>\n",
       "      <td>1.086500e+04</td>\n",
       "      <td>1.086500e+04</td>\n",
       "      <td>1.086500e+04</td>\n",
       "      <td>10865.000000</td>\n",
       "      <td>10865.000000</td>\n",
       "      <td>10865.000000</td>\n",
       "      <td>10865.000000</td>\n",
       "    </tr>\n",
       "    <tr>\n",
       "      <th>mean</th>\n",
       "      <td>0.646446</td>\n",
       "      <td>2.229110e+07</td>\n",
       "      <td>6.187923e+07</td>\n",
       "      <td>2.520261e+07</td>\n",
       "      <td>102.071790</td>\n",
       "      <td>217.399632</td>\n",
       "      <td>5.975012</td>\n",
       "      <td>2001.321859</td>\n",
       "    </tr>\n",
       "    <tr>\n",
       "      <th>std</th>\n",
       "      <td>1.000231</td>\n",
       "      <td>2.801385e+07</td>\n",
       "      <td>1.110236e+08</td>\n",
       "      <td>9.659103e+07</td>\n",
       "      <td>31.382701</td>\n",
       "      <td>575.644627</td>\n",
       "      <td>0.935138</td>\n",
       "      <td>12.813260</td>\n",
       "    </tr>\n",
       "    <tr>\n",
       "      <th>min</th>\n",
       "      <td>0.000065</td>\n",
       "      <td>1.000000e+00</td>\n",
       "      <td>2.000000e+00</td>\n",
       "      <td>-4.139124e+08</td>\n",
       "      <td>0.000000</td>\n",
       "      <td>10.000000</td>\n",
       "      <td>1.500000</td>\n",
       "      <td>1960.000000</td>\n",
       "    </tr>\n",
       "    <tr>\n",
       "      <th>25%</th>\n",
       "      <td>0.207575</td>\n",
       "      <td>1.462429e+07</td>\n",
       "      <td>3.982690e+07</td>\n",
       "      <td>0.000000e+00</td>\n",
       "      <td>90.000000</td>\n",
       "      <td>17.000000</td>\n",
       "      <td>5.400000</td>\n",
       "      <td>1995.000000</td>\n",
       "    </tr>\n",
       "    <tr>\n",
       "      <th>50%</th>\n",
       "      <td>0.383831</td>\n",
       "      <td>1.462429e+07</td>\n",
       "      <td>3.982690e+07</td>\n",
       "      <td>0.000000e+00</td>\n",
       "      <td>99.000000</td>\n",
       "      <td>38.000000</td>\n",
       "      <td>6.000000</td>\n",
       "      <td>2006.000000</td>\n",
       "    </tr>\n",
       "    <tr>\n",
       "      <th>75%</th>\n",
       "      <td>0.713857</td>\n",
       "      <td>1.500000e+07</td>\n",
       "      <td>3.982690e+07</td>\n",
       "      <td>9.092453e+06</td>\n",
       "      <td>111.000000</td>\n",
       "      <td>146.000000</td>\n",
       "      <td>6.600000</td>\n",
       "      <td>2011.000000</td>\n",
       "    </tr>\n",
       "    <tr>\n",
       "      <th>max</th>\n",
       "      <td>32.985763</td>\n",
       "      <td>4.250000e+08</td>\n",
       "      <td>2.781506e+09</td>\n",
       "      <td>2.544506e+09</td>\n",
       "      <td>900.000000</td>\n",
       "      <td>9767.000000</td>\n",
       "      <td>9.200000</td>\n",
       "      <td>2015.000000</td>\n",
       "    </tr>\n",
       "  </tbody>\n",
       "</table>\n",
       "</div>"
      ],
      "text/plain": [
       "         popularity        budget       revenue        profit       runtime  \\\n",
       "count  10865.000000  1.086500e+04  1.086500e+04  1.086500e+04  10865.000000   \n",
       "mean       0.646446  2.229110e+07  6.187923e+07  2.520261e+07    102.071790   \n",
       "std        1.000231  2.801385e+07  1.110236e+08  9.659103e+07     31.382701   \n",
       "min        0.000065  1.000000e+00  2.000000e+00 -4.139124e+08      0.000000   \n",
       "25%        0.207575  1.462429e+07  3.982690e+07  0.000000e+00     90.000000   \n",
       "50%        0.383831  1.462429e+07  3.982690e+07  0.000000e+00     99.000000   \n",
       "75%        0.713857  1.500000e+07  3.982690e+07  9.092453e+06    111.000000   \n",
       "max       32.985763  4.250000e+08  2.781506e+09  2.544506e+09    900.000000   \n",
       "\n",
       "         vote_count  vote_average  release_year  \n",
       "count  10865.000000  10865.000000  10865.000000  \n",
       "mean     217.399632      5.975012   2001.321859  \n",
       "std      575.644627      0.935138     12.813260  \n",
       "min       10.000000      1.500000   1960.000000  \n",
       "25%       17.000000      5.400000   1995.000000  \n",
       "50%       38.000000      6.000000   2006.000000  \n",
       "75%      146.000000      6.600000   2011.000000  \n",
       "max     9767.000000      9.200000   2015.000000  "
      ]
     },
     "execution_count": 32,
     "metadata": {},
     "output_type": "execute_result"
    }
   ],
   "source": [
    "df.describe()"
   ]
  },
  {
   "cell_type": "markdown",
   "metadata": {},
   "source": [
    "<a id='eda'></a>\n",
    "## Exploratory Data Analysis\n",
    "\n",
    "\n",
    "### Research Question 1 (what is the genre that appered most in the dataset (is genre correlated to number of movies made, revenue and profit?!))"
   ]
  },
  {
   "cell_type": "code",
   "execution_count": 33,
   "metadata": {},
   "outputs": [
    {
     "data": {
      "text/html": [
       "<div>\n",
       "<style scoped>\n",
       "    .dataframe tbody tr th:only-of-type {\n",
       "        vertical-align: middle;\n",
       "    }\n",
       "\n",
       "    .dataframe tbody tr th {\n",
       "        vertical-align: top;\n",
       "    }\n",
       "\n",
       "    .dataframe thead th {\n",
       "        text-align: right;\n",
       "    }\n",
       "</style>\n",
       "<table border=\"1\" class=\"dataframe\">\n",
       "  <thead>\n",
       "    <tr style=\"text-align: right;\">\n",
       "      <th></th>\n",
       "      <th>popularity</th>\n",
       "      <th>budget</th>\n",
       "      <th>revenue</th>\n",
       "      <th>profit</th>\n",
       "      <th>movie_title</th>\n",
       "      <th>main_actor</th>\n",
       "      <th>director</th>\n",
       "      <th>runtime</th>\n",
       "      <th>main_genre</th>\n",
       "      <th>production_company</th>\n",
       "      <th>release_month</th>\n",
       "      <th>vote_count</th>\n",
       "      <th>vote_average</th>\n",
       "      <th>release_year</th>\n",
       "    </tr>\n",
       "  </thead>\n",
       "  <tbody>\n",
       "    <tr>\n",
       "      <th>0</th>\n",
       "      <td>32.985763</td>\n",
       "      <td>150000000.0</td>\n",
       "      <td>1.513529e+09</td>\n",
       "      <td>1363528810</td>\n",
       "      <td>Jurassic World</td>\n",
       "      <td>Chris Pratt</td>\n",
       "      <td>Colin Trevorrow</td>\n",
       "      <td>124</td>\n",
       "      <td>Action</td>\n",
       "      <td>Universal Studios</td>\n",
       "      <td>June</td>\n",
       "      <td>5562</td>\n",
       "      <td>6.5</td>\n",
       "      <td>2015</td>\n",
       "    </tr>\n",
       "    <tr>\n",
       "      <th>1</th>\n",
       "      <td>28.419936</td>\n",
       "      <td>150000000.0</td>\n",
       "      <td>3.784364e+08</td>\n",
       "      <td>228436354</td>\n",
       "      <td>Mad Max: Fury Road</td>\n",
       "      <td>Tom Hardy</td>\n",
       "      <td>George Miller</td>\n",
       "      <td>120</td>\n",
       "      <td>Action</td>\n",
       "      <td>Village Roadshow Pictures</td>\n",
       "      <td>May</td>\n",
       "      <td>6185</td>\n",
       "      <td>7.1</td>\n",
       "      <td>2015</td>\n",
       "    </tr>\n",
       "    <tr>\n",
       "      <th>2</th>\n",
       "      <td>13.112507</td>\n",
       "      <td>110000000.0</td>\n",
       "      <td>2.952382e+08</td>\n",
       "      <td>185238201</td>\n",
       "      <td>Insurgent</td>\n",
       "      <td>Shailene Woodley</td>\n",
       "      <td>Robert Schwentke</td>\n",
       "      <td>119</td>\n",
       "      <td>Adventure</td>\n",
       "      <td>Summit Entertainment</td>\n",
       "      <td>March</td>\n",
       "      <td>2480</td>\n",
       "      <td>6.3</td>\n",
       "      <td>2015</td>\n",
       "    </tr>\n",
       "    <tr>\n",
       "      <th>3</th>\n",
       "      <td>11.173104</td>\n",
       "      <td>200000000.0</td>\n",
       "      <td>2.068178e+09</td>\n",
       "      <td>1868178225</td>\n",
       "      <td>Star Wars: The Force Awakens</td>\n",
       "      <td>Harrison Ford</td>\n",
       "      <td>J.J. Abrams</td>\n",
       "      <td>136</td>\n",
       "      <td>Action</td>\n",
       "      <td>Lucasfilm</td>\n",
       "      <td>December</td>\n",
       "      <td>5292</td>\n",
       "      <td>7.5</td>\n",
       "      <td>2015</td>\n",
       "    </tr>\n",
       "    <tr>\n",
       "      <th>4</th>\n",
       "      <td>9.335014</td>\n",
       "      <td>190000000.0</td>\n",
       "      <td>1.506249e+09</td>\n",
       "      <td>1316249360</td>\n",
       "      <td>Furious 7</td>\n",
       "      <td>Vin Diesel</td>\n",
       "      <td>James Wan</td>\n",
       "      <td>137</td>\n",
       "      <td>Action</td>\n",
       "      <td>Universal Pictures</td>\n",
       "      <td>April</td>\n",
       "      <td>2947</td>\n",
       "      <td>7.3</td>\n",
       "      <td>2015</td>\n",
       "    </tr>\n",
       "  </tbody>\n",
       "</table>\n",
       "</div>"
      ],
      "text/plain": [
       "   popularity       budget       revenue      profit  \\\n",
       "0   32.985763  150000000.0  1.513529e+09  1363528810   \n",
       "1   28.419936  150000000.0  3.784364e+08   228436354   \n",
       "2   13.112507  110000000.0  2.952382e+08   185238201   \n",
       "3   11.173104  200000000.0  2.068178e+09  1868178225   \n",
       "4    9.335014  190000000.0  1.506249e+09  1316249360   \n",
       "\n",
       "                    movie_title        main_actor          director  runtime  \\\n",
       "0                Jurassic World       Chris Pratt   Colin Trevorrow      124   \n",
       "1            Mad Max: Fury Road         Tom Hardy     George Miller      120   \n",
       "2                     Insurgent  Shailene Woodley  Robert Schwentke      119   \n",
       "3  Star Wars: The Force Awakens     Harrison Ford       J.J. Abrams      136   \n",
       "4                     Furious 7        Vin Diesel         James Wan      137   \n",
       "\n",
       "  main_genre         production_company release_month  vote_count  \\\n",
       "0     Action          Universal Studios          June        5562   \n",
       "1     Action  Village Roadshow Pictures           May        6185   \n",
       "2  Adventure       Summit Entertainment         March        2480   \n",
       "3     Action                  Lucasfilm      December        5292   \n",
       "4     Action         Universal Pictures         April        2947   \n",
       "\n",
       "   vote_average  release_year  \n",
       "0           6.5          2015  \n",
       "1           7.1          2015  \n",
       "2           6.3          2015  \n",
       "3           7.5          2015  \n",
       "4           7.3          2015  "
      ]
     },
     "execution_count": 33,
     "metadata": {},
     "output_type": "execute_result"
    }
   ],
   "source": [
    "df.head()"
   ]
  },
  {
   "cell_type": "code",
   "execution_count": 34,
   "metadata": {},
   "outputs": [
    {
     "data": {
      "image/png": "[encoded data removed]",
      "text/plain": [
       "<Figure size 720x504 with 9 Axes>"
      ]
     },
     "metadata": {
      "needs_background": "light"
     },
     "output_type": "display_data"
    }
   ],
   "source": [
    "df.hist(figsize = (10,7));"
   ]
  },
  {
   "cell_type": "code",
   "execution_count": 35,
   "metadata": {},
   "outputs": [
    {
     "data": {
      "text/plain": [
       "Drama              2453\n",
       "Comedy             2319\n",
       "Action             1590\n",
       "Horror              915\n",
       "Adventure           586\n",
       "Thriller            491\n",
       "Documentary         432\n",
       "Animation           403\n",
       "Crime               380\n",
       "Fantasy             272\n",
       "Science Fiction     214\n",
       "Romance             186\n",
       "Family              144\n",
       "Mystery             125\n",
       "Music               100\n",
       "TV Movie             78\n",
       "War                  59\n",
       "History              44\n",
       "Western              42\n",
       "Not Specified        23\n",
       "Foreign               9\n",
       "Name: main_genre, dtype: int64"
      ]
     },
     "execution_count": 35,
     "metadata": {},
     "output_type": "execute_result"
    }
   ],
   "source": [
    "df['main_genre'].value_counts()"
   ]
  },
  {
   "cell_type": "markdown",
   "metadata": {},
   "source": [
    "##### we can see that number of movies with the genre drama is highest above all"
   ]
  },
  {
   "cell_type": "code",
   "execution_count": 36,
   "metadata": {},
   "outputs": [
    {
     "data": {
      "text/plain": [
       "Text(0, 0.5, 'Movies')"
      ]
     },
     "execution_count": 36,
     "metadata": {},
     "output_type": "execute_result"
    },
    {
     "data": {
      "image/png": "[encoded data removed]",
      "text/plain": [
       "<Figure size 432x288 with 1 Axes>"
      ]
     },
     "metadata": {
      "needs_background": "light"
     },
     "output_type": "display_data"
    }
   ],
   "source": [
    "df_1 = df['main_genre'].value_counts().plot.bar(color='skyblue')\n",
    "plt.title('genres distribution over the years', fontsize=20)\n",
    "plt.ylabel(\"Movies\", fontsize = 15)\n"
   ]
  },
  {
   "cell_type": "markdown",
   "metadata": {},
   "source": [
    "##### yup, genre does affect the number of movies, we can see that Drama and Comedy and Action are the most Popular genres \n",
    "#### but Let's see if there is a relation between the genre and the Total Revenue"
   ]
  },
  {
   "cell_type": "code",
   "execution_count": 37,
   "metadata": {},
   "outputs": [
    {
     "data": {
      "text/plain": [
       "main_genre\n",
       "Action             1.270736e+11\n",
       "Comedy             1.184928e+11\n",
       "Drama              1.132940e+11\n",
       "Adventure          8.238667e+10\n",
       "Animation          4.006806e+10\n",
       "Horror             3.897032e+10\n",
       "Thriller           2.463272e+10\n",
       "Fantasy            2.372041e+10\n",
       "Science Fiction    2.146719e+10\n",
       "Crime              1.963568e+10\n",
       "Documentary        1.455266e+10\n",
       "Family             1.263801e+10\n",
       "Romance            1.110923e+10\n",
       "Mystery            5.927245e+09\n",
       "Music              4.773883e+09\n",
       "War                4.182147e+09\n",
       "TV Movie           3.108671e+09\n",
       "History            2.867886e+09\n",
       "Western            2.142185e+09\n",
       "Not Specified      9.160186e+08\n",
       "Foreign            3.584421e+08\n",
       "Name: revenue, dtype: float64"
      ]
     },
     "execution_count": 37,
     "metadata": {},
     "output_type": "execute_result"
    }
   ],
   "source": [
    "df_revenue = df.groupby('main_genre')['revenue'].sum().sort_values(ascending = False)\n",
    "df_revenue"
   ]
  },
  {
   "cell_type": "markdown",
   "metadata": {},
   "source": [
    "##### computing the sum of all genres revenues"
   ]
  },
  {
   "cell_type": "code",
   "execution_count": 38,
   "metadata": {},
   "outputs": [
    {
     "data": {
      "text/plain": [
       "main_genre\n",
       "Action             57418137853\n",
       "Adventure          49530172479\n",
       "Comedy             43884561239\n",
       "Drama              36344800673\n",
       "Animation          20135612280\n",
       "Fantasy            11925896473\n",
       "Science Fiction    11672539853\n",
       "Horror             10292764476\n",
       "Crime               7617610976\n",
       "Thriller            7020512237\n",
       "Family              6211564578\n",
       "Romance             4976393563\n",
       "Mystery             1756590111\n",
       "War                 1361341908\n",
       "Music               1252415911\n",
       "History             1250748175\n",
       "Documentary          666094035\n",
       "Western              486105966\n",
       "TV Movie              22500000\n",
       "Foreign                      0\n",
       "Not Specified            -5000\n",
       "Name: profit, dtype: int64"
      ]
     },
     "execution_count": 38,
     "metadata": {},
     "output_type": "execute_result"
    }
   ],
   "source": [
    "df_profit = df.groupby('main_genre')['profit'].sum().sort_values(ascending = False)\n",
    "df_profit"
   ]
  },
  {
   "cell_type": "markdown",
   "metadata": {},
   "source": [
    "##### Although we can see that the genre \"Action\" is not the genre with the most movies made but it has the most income and Profit as well"
   ]
  },
  {
   "cell_type": "code",
   "execution_count": 39,
   "metadata": {},
   "outputs": [
    {
     "data": {
      "image/png": "[encoded data removed]",
      "text/plain": [
       "<Figure size 432x288 with 1 Axes>"
      ]
     },
     "metadata": {
      "needs_background": "light"
     },
     "output_type": "display_data"
    }
   ],
   "source": [
    "df_revenue.plot(kind = 'bar', alpha = 0.5, label = 'Revenue', color = 'red')\n",
    "df_profit.plot(kind = 'bar', alpha=0.7, label = 'Profit')\n",
    "plt.xlabel('Genre', fontsize = 20)\n",
    "plt.ylabel('Revenue - Profit', fontsize = 15)\n",
    "plt.title('Genre vs Profit-Revenue', fontsize = 13)\n",
    "plt.legend();"
   ]
  },
  {
   "cell_type": "markdown",
   "metadata": {},
   "source": [
    "#### we can conclude here that not always the genre with the most movies must come with the most Income nor the most Profit"
   ]
  },
  {
   "cell_type": "markdown",
   "metadata": {},
   "source": [
    "### let's see if there is a correlation between the Revenue and the Profit"
   ]
  },
  {
   "cell_type": "code",
   "execution_count": 40,
   "metadata": {},
   "outputs": [
    {
     "data": {
      "image/png": "[encoded data removed]",
      "text/plain": [
       "<Figure size 432x288 with 1 Axes>"
      ]
     },
     "metadata": {
      "needs_background": "light"
     },
     "output_type": "display_data"
    }
   ],
   "source": [
    "df.plot(x = 'revenue', y='profit', kind = 'scatter')\n",
    "plt.xlabel('Revenue',fontsize = 13)\n",
    "plt.ylabel('Profit',fontsize = 13)\n",
    "plt.title('Correlation Between Revenue and Profit', fontsize = 13);"
   ]
  },
  {
   "cell_type": "markdown",
   "metadata": {},
   "source": [
    "#### From the prespective of the two previous plots we can see that : \n",
    "#### 1- Revenue and Profit has a Positive correlation which means when revenue increases, Profit increases as well \n",
    "#### 2- The profit and Revenue does not depend on the number of movies of the genre (EX : Action genre made a lot more Than Drama but there is more drama movies than action)"
   ]
  },
  {
   "cell_type": "markdown",
   "metadata": {},
   "source": [
    "### Research Question 2  (does the director has an influence on the revenue or popularity?!)"
   ]
  },
  {
   "cell_type": "code",
   "execution_count": 41,
   "metadata": {},
   "outputs": [
    {
     "data": {
      "text/html": [
       "<div>\n",
       "<style scoped>\n",
       "    .dataframe tbody tr th:only-of-type {\n",
       "        vertical-align: middle;\n",
       "    }\n",
       "\n",
       "    .dataframe tbody tr th {\n",
       "        vertical-align: top;\n",
       "    }\n",
       "\n",
       "    .dataframe thead th {\n",
       "        text-align: right;\n",
       "    }\n",
       "</style>\n",
       "<table border=\"1\" class=\"dataframe\">\n",
       "  <thead>\n",
       "    <tr style=\"text-align: right;\">\n",
       "      <th></th>\n",
       "      <th>popularity</th>\n",
       "      <th>budget</th>\n",
       "      <th>revenue</th>\n",
       "      <th>profit</th>\n",
       "      <th>movie_title</th>\n",
       "      <th>main_actor</th>\n",
       "      <th>director</th>\n",
       "      <th>runtime</th>\n",
       "      <th>main_genre</th>\n",
       "      <th>production_company</th>\n",
       "      <th>release_month</th>\n",
       "      <th>vote_count</th>\n",
       "      <th>vote_average</th>\n",
       "      <th>release_year</th>\n",
       "    </tr>\n",
       "  </thead>\n",
       "  <tbody>\n",
       "    <tr>\n",
       "      <th>0</th>\n",
       "      <td>32.985763</td>\n",
       "      <td>150000000.0</td>\n",
       "      <td>1.513529e+09</td>\n",
       "      <td>1363528810</td>\n",
       "      <td>Jurassic World</td>\n",
       "      <td>Chris Pratt</td>\n",
       "      <td>Colin Trevorrow</td>\n",
       "      <td>124</td>\n",
       "      <td>Action</td>\n",
       "      <td>Universal Studios</td>\n",
       "      <td>June</td>\n",
       "      <td>5562</td>\n",
       "      <td>6.5</td>\n",
       "      <td>2015</td>\n",
       "    </tr>\n",
       "    <tr>\n",
       "      <th>1</th>\n",
       "      <td>28.419936</td>\n",
       "      <td>150000000.0</td>\n",
       "      <td>3.784364e+08</td>\n",
       "      <td>228436354</td>\n",
       "      <td>Mad Max: Fury Road</td>\n",
       "      <td>Tom Hardy</td>\n",
       "      <td>George Miller</td>\n",
       "      <td>120</td>\n",
       "      <td>Action</td>\n",
       "      <td>Village Roadshow Pictures</td>\n",
       "      <td>May</td>\n",
       "      <td>6185</td>\n",
       "      <td>7.1</td>\n",
       "      <td>2015</td>\n",
       "    </tr>\n",
       "    <tr>\n",
       "      <th>2</th>\n",
       "      <td>13.112507</td>\n",
       "      <td>110000000.0</td>\n",
       "      <td>2.952382e+08</td>\n",
       "      <td>185238201</td>\n",
       "      <td>Insurgent</td>\n",
       "      <td>Shailene Woodley</td>\n",
       "      <td>Robert Schwentke</td>\n",
       "      <td>119</td>\n",
       "      <td>Adventure</td>\n",
       "      <td>Summit Entertainment</td>\n",
       "      <td>March</td>\n",
       "      <td>2480</td>\n",
       "      <td>6.3</td>\n",
       "      <td>2015</td>\n",
       "    </tr>\n",
       "    <tr>\n",
       "      <th>3</th>\n",
       "      <td>11.173104</td>\n",
       "      <td>200000000.0</td>\n",
       "      <td>2.068178e+09</td>\n",
       "      <td>1868178225</td>\n",
       "      <td>Star Wars: The Force Awakens</td>\n",
       "      <td>Harrison Ford</td>\n",
       "      <td>J.J. Abrams</td>\n",
       "      <td>136</td>\n",
       "      <td>Action</td>\n",
       "      <td>Lucasfilm</td>\n",
       "      <td>December</td>\n",
       "      <td>5292</td>\n",
       "      <td>7.5</td>\n",
       "      <td>2015</td>\n",
       "    </tr>\n",
       "    <tr>\n",
       "      <th>4</th>\n",
       "      <td>9.335014</td>\n",
       "      <td>190000000.0</td>\n",
       "      <td>1.506249e+09</td>\n",
       "      <td>1316249360</td>\n",
       "      <td>Furious 7</td>\n",
       "      <td>Vin Diesel</td>\n",
       "      <td>James Wan</td>\n",
       "      <td>137</td>\n",
       "      <td>Action</td>\n",
       "      <td>Universal Pictures</td>\n",
       "      <td>April</td>\n",
       "      <td>2947</td>\n",
       "      <td>7.3</td>\n",
       "      <td>2015</td>\n",
       "    </tr>\n",
       "  </tbody>\n",
       "</table>\n",
       "</div>"
      ],
      "text/plain": [
       "   popularity       budget       revenue      profit  \\\n",
       "0   32.985763  150000000.0  1.513529e+09  1363528810   \n",
       "1   28.419936  150000000.0  3.784364e+08   228436354   \n",
       "2   13.112507  110000000.0  2.952382e+08   185238201   \n",
       "3   11.173104  200000000.0  2.068178e+09  1868178225   \n",
       "4    9.335014  190000000.0  1.506249e+09  1316249360   \n",
       "\n",
       "                    movie_title        main_actor          director  runtime  \\\n",
       "0                Jurassic World       Chris Pratt   Colin Trevorrow      124   \n",
       "1            Mad Max: Fury Road         Tom Hardy     George Miller      120   \n",
       "2                     Insurgent  Shailene Woodley  Robert Schwentke      119   \n",
       "3  Star Wars: The Force Awakens     Harrison Ford       J.J. Abrams      136   \n",
       "4                     Furious 7        Vin Diesel         James Wan      137   \n",
       "\n",
       "  main_genre         production_company release_month  vote_count  \\\n",
       "0     Action          Universal Studios          June        5562   \n",
       "1     Action  Village Roadshow Pictures           May        6185   \n",
       "2  Adventure       Summit Entertainment         March        2480   \n",
       "3     Action                  Lucasfilm      December        5292   \n",
       "4     Action         Universal Pictures         April        2947   \n",
       "\n",
       "   vote_average  release_year  \n",
       "0           6.5          2015  \n",
       "1           7.1          2015  \n",
       "2           6.3          2015  \n",
       "3           7.5          2015  \n",
       "4           7.3          2015  "
      ]
     },
     "execution_count": 41,
     "metadata": {},
     "output_type": "execute_result"
    }
   ],
   "source": [
    "# Continue to explore the data to address your additional research\n",
    "#   questions. Add more headers as needed if you have more questions to\n",
    "#   investigate.\n",
    "df.head()"
   ]
  },
  {
   "cell_type": "code",
   "execution_count": 42,
   "metadata": {},
   "outputs": [],
   "source": [
    "directors = list(df['director'].unique())"
   ]
  },
  {
   "cell_type": "code",
   "execution_count": 43,
   "metadata": {},
   "outputs": [
    {
     "data": {
      "text/plain": [
       "Woody Allen              46\n",
       "Not Specified            44\n",
       "Clint Eastwood           34\n",
       "Martin Scorsese          30\n",
       "Steven Spielberg         29\n",
       "                         ..\n",
       "John Stainton             1\n",
       "Liv Ullmann               1\n",
       "Ajmal Zaheer Ahmad \\t     1\n",
       "Chris Nash                1\n",
       "Harold P. Warren          1\n",
       "Name: director, Length: 4838, dtype: int64"
      ]
     },
     "execution_count": 43,
     "metadata": {},
     "output_type": "execute_result"
    }
   ],
   "source": [
    "df['director'].value_counts()"
   ]
  },
  {
   "cell_type": "markdown",
   "metadata": {},
   "source": [
    "#### get a list with all directors and the number of movies they made"
   ]
  },
  {
   "cell_type": "code",
   "execution_count": 82,
   "metadata": {},
   "outputs": [
    {
     "data": {
      "image/png": "[encoded data removed]",
      "text/plain": [
       "<Figure size 1440x864 with 1 Axes>"
      ]
     },
     "metadata": {
      "needs_background": "light"
     },
     "output_type": "display_data"
    }
   ],
   "source": [
    "df['director'].value_counts().head(10).plot.barh(figsize=(20,12),color='red', alpha=0.7)\n",
    "plt.title(\"Top 10 Directors\", fontsize = 40)\n",
    "plt.xlabel(\"Movies Directed\", fontsize = 40)\n",
    "plt.ylabel('Directors', fontsize =40)\n",
    "plt.legend(prop={'size': 30})\n",
    "plt.show()"
   ]
  },
  {
   "cell_type": "markdown",
   "metadata": {},
   "source": [
    "##### the director with most movie directed is Woody Allen with 46 movies, we will continue investingating on the top 3 directors only"
   ]
  },
  {
   "cell_type": "code",
   "execution_count": 45,
   "metadata": {},
   "outputs": [
    {
     "data": {
      "text/plain": [
       "Woody Allen        46\n",
       "Not Specified      44\n",
       "Clint Eastwood     34\n",
       "Martin Scorsese    30\n",
       "Name: director, dtype: int64"
      ]
     },
     "execution_count": 45,
     "metadata": {},
     "output_type": "execute_result"
    }
   ],
   "source": [
    "df['director'].value_counts().head(4)"
   ]
  },
  {
   "cell_type": "markdown",
   "metadata": {},
   "source": [
    "##### getting the top 3 directors with number of movies directed, ignoring the not specified field"
   ]
  },
  {
   "cell_type": "code",
   "execution_count": 46,
   "metadata": {},
   "outputs": [
    {
     "data": {
      "text/html": [
       "<div>\n",
       "<style scoped>\n",
       "    .dataframe tbody tr th:only-of-type {\n",
       "        vertical-align: middle;\n",
       "    }\n",
       "\n",
       "    .dataframe tbody tr th {\n",
       "        vertical-align: top;\n",
       "    }\n",
       "\n",
       "    .dataframe thead th {\n",
       "        text-align: right;\n",
       "    }\n",
       "</style>\n",
       "<table border=\"1\" class=\"dataframe\">\n",
       "  <thead>\n",
       "    <tr style=\"text-align: right;\">\n",
       "      <th></th>\n",
       "      <th>count</th>\n",
       "      <th>unique</th>\n",
       "      <th>top</th>\n",
       "      <th>freq</th>\n",
       "    </tr>\n",
       "    <tr>\n",
       "      <th>popularity</th>\n",
       "      <th></th>\n",
       "      <th></th>\n",
       "      <th></th>\n",
       "      <th></th>\n",
       "    </tr>\n",
       "  </thead>\n",
       "  <tbody>\n",
       "    <tr>\n",
       "      <th>0.000065</th>\n",
       "      <td>1</td>\n",
       "      <td>1</td>\n",
       "      <td>Not Specified</td>\n",
       "      <td>1</td>\n",
       "    </tr>\n",
       "    <tr>\n",
       "      <th>0.000188</th>\n",
       "      <td>1</td>\n",
       "      <td>1</td>\n",
       "      <td>Arthur Hiller</td>\n",
       "      <td>1</td>\n",
       "    </tr>\n",
       "    <tr>\n",
       "      <th>0.000620</th>\n",
       "      <td>1</td>\n",
       "      <td>1</td>\n",
       "      <td>Darren Stein</td>\n",
       "      <td>1</td>\n",
       "    </tr>\n",
       "    <tr>\n",
       "      <th>0.000973</th>\n",
       "      <td>1</td>\n",
       "      <td>1</td>\n",
       "      <td>Pascal Thomas</td>\n",
       "      <td>1</td>\n",
       "    </tr>\n",
       "    <tr>\n",
       "      <th>0.001115</th>\n",
       "      <td>1</td>\n",
       "      <td>1</td>\n",
       "      <td>Dibakar Banerjee</td>\n",
       "      <td>1</td>\n",
       "    </tr>\n",
       "    <tr>\n",
       "      <th>...</th>\n",
       "      <td>...</td>\n",
       "      <td>...</td>\n",
       "      <td>...</td>\n",
       "      <td>...</td>\n",
       "    </tr>\n",
       "    <tr>\n",
       "      <th>13.112507</th>\n",
       "      <td>1</td>\n",
       "      <td>1</td>\n",
       "      <td>Robert Schwentke</td>\n",
       "      <td>1</td>\n",
       "    </tr>\n",
       "    <tr>\n",
       "      <th>14.311205</th>\n",
       "      <td>1</td>\n",
       "      <td>1</td>\n",
       "      <td>James Gunn</td>\n",
       "      <td>1</td>\n",
       "    </tr>\n",
       "    <tr>\n",
       "      <th>24.949134</th>\n",
       "      <td>1</td>\n",
       "      <td>1</td>\n",
       "      <td>Christopher Nolan</td>\n",
       "      <td>1</td>\n",
       "    </tr>\n",
       "    <tr>\n",
       "      <th>28.419936</th>\n",
       "      <td>1</td>\n",
       "      <td>1</td>\n",
       "      <td>George Miller</td>\n",
       "      <td>1</td>\n",
       "    </tr>\n",
       "    <tr>\n",
       "      <th>32.985763</th>\n",
       "      <td>1</td>\n",
       "      <td>1</td>\n",
       "      <td>Colin Trevorrow</td>\n",
       "      <td>1</td>\n",
       "    </tr>\n",
       "  </tbody>\n",
       "</table>\n",
       "<p>10814 rows × 4 columns</p>\n",
       "</div>"
      ],
      "text/plain": [
       "           count unique                top freq\n",
       "popularity                                     \n",
       "0.000065       1      1      Not Specified    1\n",
       "0.000188       1      1      Arthur Hiller    1\n",
       "0.000620       1      1       Darren Stein    1\n",
       "0.000973       1      1      Pascal Thomas    1\n",
       "0.001115       1      1   Dibakar Banerjee    1\n",
       "...          ...    ...                ...  ...\n",
       "13.112507      1      1   Robert Schwentke    1\n",
       "14.311205      1      1         James Gunn    1\n",
       "24.949134      1      1  Christopher Nolan    1\n",
       "28.419936      1      1      George Miller    1\n",
       "32.985763      1      1    Colin Trevorrow    1\n",
       "\n",
       "[10814 rows x 4 columns]"
      ]
     },
     "execution_count": 46,
     "metadata": {},
     "output_type": "execute_result"
    }
   ],
   "source": [
    "df.groupby('popularity')['director'].describe()"
   ]
  },
  {
   "cell_type": "markdown",
   "metadata": {},
   "source": [
    "#### we will now analyse if the top 3 directors and Movies popularity are correlated"
   ]
  },
  {
   "cell_type": "code",
   "execution_count": 47,
   "metadata": {},
   "outputs": [
    {
     "data": {
      "text/plain": [
       "0.6464455549010583"
      ]
     },
     "execution_count": 47,
     "metadata": {},
     "output_type": "execute_result"
    }
   ],
   "source": [
    "pop_mean = df.popularity.mean()\n",
    "pop_mean"
   ]
  },
  {
   "cell_type": "code",
   "execution_count": 48,
   "metadata": {},
   "outputs": [
    {
     "data": {
      "text/plain": [
       "Woody Allen        46\n",
       "Not Specified      44\n",
       "Clint Eastwood     34\n",
       "Martin Scorsese    30\n",
       "Name: director, dtype: int64"
      ]
     },
     "execution_count": 48,
     "metadata": {},
     "output_type": "execute_result"
    }
   ],
   "source": [
    "df['director'].value_counts().head(4)"
   ]
  },
  {
   "cell_type": "code",
   "execution_count": 49,
   "metadata": {},
   "outputs": [
    {
     "data": {
      "text/plain": [
       "['Woody Allen', 'Not Specified', 'Clint Eastwood', 'Martin Scorsese']"
      ]
     },
     "execution_count": 49,
     "metadata": {},
     "output_type": "execute_result"
    }
   ],
   "source": [
    "directors_top = list(df['director'].value_counts().head(4).index)\n",
    "directors_top"
   ]
  },
  {
   "cell_type": "markdown",
   "metadata": {},
   "source": [
    "##### creating a list with directors names and dropping the not specified because it means that there are 44 movies in the data set without their directors names"
   ]
  },
  {
   "cell_type": "code",
   "execution_count": 50,
   "metadata": {},
   "outputs": [],
   "source": [
    "directors_top.remove('Not Specified')\n"
   ]
  },
  {
   "cell_type": "code",
   "execution_count": 51,
   "metadata": {},
   "outputs": [
    {
     "data": {
      "text/plain": [
       "['Woody Allen', 'Clint Eastwood', 'Martin Scorsese']"
      ]
     },
     "execution_count": 51,
     "metadata": {},
     "output_type": "execute_result"
    }
   ],
   "source": [
    "directors_top"
   ]
  },
  {
   "cell_type": "code",
   "execution_count": 52,
   "metadata": {},
   "outputs": [],
   "source": [
    "means_list =[]"
   ]
  },
  {
   "cell_type": "markdown",
   "metadata": {},
   "source": [
    "##### creating a means list to put the popularity means of all 3 three directors"
   ]
  },
  {
   "cell_type": "code",
   "execution_count": 53,
   "metadata": {},
   "outputs": [],
   "source": [
    "# 1 director \n",
    "df_w =df.query('director == \"Woody Allen\"')"
   ]
  },
  {
   "cell_type": "markdown",
   "metadata": {},
   "source": [
    "#### creating a mask to get all movies with the director Woody Allen"
   ]
  },
  {
   "cell_type": "code",
   "execution_count": 54,
   "metadata": {},
   "outputs": [
    {
     "data": {
      "text/plain": [
       "0.5590871521739128"
      ]
     },
     "execution_count": 54,
     "metadata": {},
     "output_type": "execute_result"
    }
   ],
   "source": [
    "df_w['popularity'].mean()"
   ]
  },
  {
   "cell_type": "markdown",
   "metadata": {},
   "source": [
    "##### getting the mean popularity for Woody's movies"
   ]
  },
  {
   "cell_type": "code",
   "execution_count": 56,
   "metadata": {},
   "outputs": [],
   "source": [
    "df_w1 = list(df_w['popularity'])"
   ]
  },
  {
   "cell_type": "markdown",
   "metadata": {},
   "source": [
    "##### creating a list of all movies popularity values of director Woody Allen "
   ]
  },
  {
   "cell_type": "code",
   "execution_count": 57,
   "metadata": {},
   "outputs": [],
   "source": [
    "# 2 director \n",
    "df_c =df.query('director == \"Clint Eastwood\"')"
   ]
  },
  {
   "cell_type": "code",
   "execution_count": 58,
   "metadata": {},
   "outputs": [
    {
     "data": {
      "text/plain": [
       "0.8300373235294114"
      ]
     },
     "execution_count": 58,
     "metadata": {},
     "output_type": "execute_result"
    }
   ],
   "source": [
    "df_c['popularity'].mean()"
   ]
  },
  {
   "cell_type": "markdown",
   "metadata": {},
   "source": [
    "##### getting the mean popularity for Clint Eastwood"
   ]
  },
  {
   "cell_type": "code",
   "execution_count": 59,
   "metadata": {},
   "outputs": [],
   "source": [
    "df_c1 = list(df_c['popularity'])\n"
   ]
  },
  {
   "cell_type": "markdown",
   "metadata": {},
   "source": [
    "##### creating a list of all movies popularity values of director Clint Eastwood"
   ]
  },
  {
   "cell_type": "code",
   "execution_count": 60,
   "metadata": {},
   "outputs": [],
   "source": [
    "# 3 director \n",
    "df_m =df.query('director == \"Martin Scorsese\"')"
   ]
  },
  {
   "cell_type": "code",
   "execution_count": 61,
   "metadata": {},
   "outputs": [
    {
     "data": {
      "text/plain": [
       "1.0974256333333332"
      ]
     },
     "execution_count": 61,
     "metadata": {},
     "output_type": "execute_result"
    }
   ],
   "source": [
    "df_m['popularity'].mean()"
   ]
  },
  {
   "cell_type": "markdown",
   "metadata": {},
   "source": [
    "##### getting the mean popularity for Martin Scorsese"
   ]
  },
  {
   "cell_type": "code",
   "execution_count": 62,
   "metadata": {},
   "outputs": [],
   "source": [
    "df_m1 = list(df_m['popularity'])"
   ]
  },
  {
   "cell_type": "markdown",
   "metadata": {},
   "source": [
    "##### creating a list of all movies popularity values of director Martin Scorsese"
   ]
  },
  {
   "cell_type": "code",
   "execution_count": 63,
   "metadata": {},
   "outputs": [
    {
     "data": {
      "text/html": [
       "<div>\n",
       "<style scoped>\n",
       "    .dataframe tbody tr th:only-of-type {\n",
       "        vertical-align: middle;\n",
       "    }\n",
       "\n",
       "    .dataframe tbody tr th {\n",
       "        vertical-align: top;\n",
       "    }\n",
       "\n",
       "    .dataframe thead th {\n",
       "        text-align: right;\n",
       "    }\n",
       "</style>\n",
       "<table border=\"1\" class=\"dataframe\">\n",
       "  <thead>\n",
       "    <tr style=\"text-align: right;\">\n",
       "      <th></th>\n",
       "      <th>popularity</th>\n",
       "      <th>budget</th>\n",
       "      <th>revenue</th>\n",
       "      <th>profit</th>\n",
       "      <th>movie_title</th>\n",
       "      <th>main_actor</th>\n",
       "      <th>director</th>\n",
       "      <th>runtime</th>\n",
       "      <th>main_genre</th>\n",
       "      <th>production_company</th>\n",
       "      <th>release_month</th>\n",
       "      <th>vote_count</th>\n",
       "      <th>vote_average</th>\n",
       "      <th>release_year</th>\n",
       "    </tr>\n",
       "  </thead>\n",
       "  <tbody>\n",
       "    <tr>\n",
       "      <th>155</th>\n",
       "      <td>1.007054</td>\n",
       "      <td>1.100000e+07</td>\n",
       "      <td>2.739108e+07</td>\n",
       "      <td>16391084</td>\n",
       "      <td>Irrational Man</td>\n",
       "      <td>Emma Stone</td>\n",
       "      <td>Woody Allen</td>\n",
       "      <td>95</td>\n",
       "      <td>Mystery</td>\n",
       "      <td>Sony Pictures</td>\n",
       "      <td>July</td>\n",
       "      <td>319</td>\n",
       "      <td>6.1</td>\n",
       "      <td>2015</td>\n",
       "    </tr>\n",
       "    <tr>\n",
       "      <th>572</th>\n",
       "      <td>0.082569</td>\n",
       "      <td>1.462429e+07</td>\n",
       "      <td>3.982690e+07</td>\n",
       "      <td>0</td>\n",
       "      <td>The Audition</td>\n",
       "      <td>Leonardo DiCaprio</td>\n",
       "      <td>Martin Scorsese</td>\n",
       "      <td>16</td>\n",
       "      <td>Comedy</td>\n",
       "      <td>RatPac Entertainment</td>\n",
       "      <td>October</td>\n",
       "      <td>10</td>\n",
       "      <td>6.1</td>\n",
       "      <td>2015</td>\n",
       "    </tr>\n",
       "    <tr>\n",
       "      <th>657</th>\n",
       "      <td>3.863074</td>\n",
       "      <td>5.880000e+07</td>\n",
       "      <td>5.423074e+08</td>\n",
       "      <td>483507423</td>\n",
       "      <td>American Sniper</td>\n",
       "      <td>Bradley Cooper</td>\n",
       "      <td>Clint Eastwood</td>\n",
       "      <td>134</td>\n",
       "      <td>War</td>\n",
       "      <td>Village Roadshow Pictures</td>\n",
       "      <td>December</td>\n",
       "      <td>3004</td>\n",
       "      <td>7.5</td>\n",
       "      <td>2014</td>\n",
       "    </tr>\n",
       "    <tr>\n",
       "      <th>790</th>\n",
       "      <td>0.889247</td>\n",
       "      <td>1.462429e+07</td>\n",
       "      <td>3.233933e+07</td>\n",
       "      <td>32339326</td>\n",
       "      <td>Magic in the Moonlight</td>\n",
       "      <td>Colin Firth</td>\n",
       "      <td>Woody Allen</td>\n",
       "      <td>97</td>\n",
       "      <td>Comedy</td>\n",
       "      <td>Perdido Productions</td>\n",
       "      <td>July</td>\n",
       "      <td>464</td>\n",
       "      <td>6.3</td>\n",
       "      <td>2014</td>\n",
       "    </tr>\n",
       "    <tr>\n",
       "      <th>803</th>\n",
       "      <td>0.797723</td>\n",
       "      <td>4.000000e+07</td>\n",
       "      <td>6.734701e+07</td>\n",
       "      <td>27347013</td>\n",
       "      <td>Jersey Boys</td>\n",
       "      <td>Christopher Walken</td>\n",
       "      <td>Clint Eastwood</td>\n",
       "      <td>134</td>\n",
       "      <td>Music</td>\n",
       "      <td>Warner Bros.</td>\n",
       "      <td>June</td>\n",
       "      <td>181</td>\n",
       "      <td>6.7</td>\n",
       "      <td>2014</td>\n",
       "    </tr>\n",
       "    <tr>\n",
       "      <th>...</th>\n",
       "      <td>...</td>\n",
       "      <td>...</td>\n",
       "      <td>...</td>\n",
       "      <td>...</td>\n",
       "      <td>...</td>\n",
       "      <td>...</td>\n",
       "      <td>...</td>\n",
       "      <td>...</td>\n",
       "      <td>...</td>\n",
       "      <td>...</td>\n",
       "      <td>...</td>\n",
       "      <td>...</td>\n",
       "      <td>...</td>\n",
       "      <td>...</td>\n",
       "    </tr>\n",
       "    <tr>\n",
       "      <th>10609</th>\n",
       "      <td>0.568400</td>\n",
       "      <td>2.000000e+06</td>\n",
       "      <td>1.834473e+07</td>\n",
       "      <td>16344729</td>\n",
       "      <td>Sleeper</td>\n",
       "      <td>Woody Allen</td>\n",
       "      <td>Woody Allen</td>\n",
       "      <td>89</td>\n",
       "      <td>Science Fiction</td>\n",
       "      <td>Rollins-Joffe Productions</td>\n",
       "      <td>December</td>\n",
       "      <td>93</td>\n",
       "      <td>6.9</td>\n",
       "      <td>1973</td>\n",
       "    </tr>\n",
       "    <tr>\n",
       "      <th>10729</th>\n",
       "      <td>0.589059</td>\n",
       "      <td>1.500000e+06</td>\n",
       "      <td>3.982690e+07</td>\n",
       "      <td>-1500000</td>\n",
       "      <td>Take the Money and Run</td>\n",
       "      <td>Woody Allen</td>\n",
       "      <td>Woody Allen</td>\n",
       "      <td>85</td>\n",
       "      <td>Comedy</td>\n",
       "      <td>Palomar Pictures</td>\n",
       "      <td>August</td>\n",
       "      <td>77</td>\n",
       "      <td>6.9</td>\n",
       "      <td>1969</td>\n",
       "    </tr>\n",
       "    <tr>\n",
       "      <th>10804</th>\n",
       "      <td>0.149259</td>\n",
       "      <td>1.462429e+07</td>\n",
       "      <td>3.982690e+07</td>\n",
       "      <td>0</td>\n",
       "      <td>Interiors</td>\n",
       "      <td>Diane Keaton</td>\n",
       "      <td>Woody Allen</td>\n",
       "      <td>93</td>\n",
       "      <td>Drama</td>\n",
       "      <td>Not Specified</td>\n",
       "      <td>August</td>\n",
       "      <td>35</td>\n",
       "      <td>6.3</td>\n",
       "      <td>1978</td>\n",
       "    </tr>\n",
       "    <tr>\n",
       "      <th>10817</th>\n",
       "      <td>0.064029</td>\n",
       "      <td>1.462429e+07</td>\n",
       "      <td>3.219520e+05</td>\n",
       "      <td>321952</td>\n",
       "      <td>The Last Waltz</td>\n",
       "      <td>Robbie Robertson</td>\n",
       "      <td>Martin Scorsese</td>\n",
       "      <td>117</td>\n",
       "      <td>Documentary</td>\n",
       "      <td>FM Productions</td>\n",
       "      <td>May</td>\n",
       "      <td>33</td>\n",
       "      <td>8.0</td>\n",
       "      <td>1978</td>\n",
       "    </tr>\n",
       "    <tr>\n",
       "      <th>10864</th>\n",
       "      <td>0.064317</td>\n",
       "      <td>1.462429e+07</td>\n",
       "      <td>3.982690e+07</td>\n",
       "      <td>0</td>\n",
       "      <td>What's Up, Tiger Lily?</td>\n",
       "      <td>Tatsuya Mihashi</td>\n",
       "      <td>Woody Allen</td>\n",
       "      <td>80</td>\n",
       "      <td>Action</td>\n",
       "      <td>Benedict Pictures Corp.</td>\n",
       "      <td>November</td>\n",
       "      <td>22</td>\n",
       "      <td>5.4</td>\n",
       "      <td>1966</td>\n",
       "    </tr>\n",
       "  </tbody>\n",
       "</table>\n",
       "<p>110 rows × 14 columns</p>\n",
       "</div>"
      ],
      "text/plain": [
       "       popularity        budget       revenue     profit  \\\n",
       "155      1.007054  1.100000e+07  2.739108e+07   16391084   \n",
       "572      0.082569  1.462429e+07  3.982690e+07          0   \n",
       "657      3.863074  5.880000e+07  5.423074e+08  483507423   \n",
       "790      0.889247  1.462429e+07  3.233933e+07   32339326   \n",
       "803      0.797723  4.000000e+07  6.734701e+07   27347013   \n",
       "...           ...           ...           ...        ...   \n",
       "10609    0.568400  2.000000e+06  1.834473e+07   16344729   \n",
       "10729    0.589059  1.500000e+06  3.982690e+07   -1500000   \n",
       "10804    0.149259  1.462429e+07  3.982690e+07          0   \n",
       "10817    0.064029  1.462429e+07  3.219520e+05     321952   \n",
       "10864    0.064317  1.462429e+07  3.982690e+07          0   \n",
       "\n",
       "                  movie_title          main_actor         director  runtime  \\\n",
       "155            Irrational Man          Emma Stone      Woody Allen       95   \n",
       "572              The Audition   Leonardo DiCaprio  Martin Scorsese       16   \n",
       "657           American Sniper      Bradley Cooper   Clint Eastwood      134   \n",
       "790    Magic in the Moonlight         Colin Firth      Woody Allen       97   \n",
       "803               Jersey Boys  Christopher Walken   Clint Eastwood      134   \n",
       "...                       ...                 ...              ...      ...   \n",
       "10609                 Sleeper         Woody Allen      Woody Allen       89   \n",
       "10729  Take the Money and Run         Woody Allen      Woody Allen       85   \n",
       "10804               Interiors        Diane Keaton      Woody Allen       93   \n",
       "10817          The Last Waltz    Robbie Robertson  Martin Scorsese      117   \n",
       "10864  What's Up, Tiger Lily?     Tatsuya Mihashi      Woody Allen       80   \n",
       "\n",
       "            main_genre         production_company release_month  vote_count  \\\n",
       "155            Mystery              Sony Pictures          July         319   \n",
       "572             Comedy       RatPac Entertainment       October          10   \n",
       "657                War  Village Roadshow Pictures      December        3004   \n",
       "790             Comedy        Perdido Productions          July         464   \n",
       "803              Music               Warner Bros.          June         181   \n",
       "...                ...                        ...           ...         ...   \n",
       "10609  Science Fiction  Rollins-Joffe Productions      December          93   \n",
       "10729           Comedy           Palomar Pictures        August          77   \n",
       "10804            Drama              Not Specified        August          35   \n",
       "10817      Documentary             FM Productions           May          33   \n",
       "10864           Action    Benedict Pictures Corp.      November          22   \n",
       "\n",
       "       vote_average  release_year  \n",
       "155             6.1          2015  \n",
       "572             6.1          2015  \n",
       "657             7.5          2014  \n",
       "790             6.3          2014  \n",
       "803             6.7          2014  \n",
       "...             ...           ...  \n",
       "10609           6.9          1973  \n",
       "10729           6.9          1969  \n",
       "10804           6.3          1978  \n",
       "10817           8.0          1978  \n",
       "10864           5.4          1966  \n",
       "\n",
       "[110 rows x 14 columns]"
      ]
     },
     "execution_count": 63,
     "metadata": {},
     "output_type": "execute_result"
    }
   ],
   "source": [
    "df_x = df.query('director == \"Martin Scorsese\" or director == \"Woody Allen\" or director == \"Clint Eastwood\"')\n",
    "df_x"
   ]
  },
  {
   "cell_type": "markdown",
   "metadata": {},
   "source": [
    "##### getting the movies that the 3 directors directed"
   ]
  },
  {
   "cell_type": "code",
   "execution_count": 64,
   "metadata": {},
   "outputs": [
    {
     "data": {
      "text/plain": [
       "155      1.007054\n",
       "572      0.082569\n",
       "657      3.863074\n",
       "790      0.889247\n",
       "803      0.797723\n",
       "           ...   \n",
       "10609    0.568400\n",
       "10729    0.589059\n",
       "10804    0.149259\n",
       "10817    0.064029\n",
       "10864    0.064317\n",
       "Name: popularity, Length: 110, dtype: float64"
      ]
     },
     "execution_count": 64,
     "metadata": {},
     "output_type": "execute_result"
    }
   ],
   "source": [
    "df_x['popularity']"
   ]
  },
  {
   "cell_type": "code",
   "execution_count": 94,
   "metadata": {},
   "outputs": [
    {
     "data": {
      "image/png": "[encoded data removed]",
      "text/plain": [
       "<Figure size 432x288 with 1 Axes>"
      ]
     },
     "metadata": {
      "needs_background": "light"
     },
     "output_type": "display_data"
    }
   ],
   "source": [
    "df_w['popularity'].hist(alpha = 0.7, label = 'Woody')\n",
    "df_c['popularity'].hist(alpha = 0.5, label = 'Clint')\n",
    "df_m['popularity'].hist(alpha = 0.3, label = 'Martin')\n",
    "plt.ylabel('Movies Directed')\n",
    "plt.xlabel('Popularity')\n",
    "plt.title('Distribution of popularity of the movies directed')\n",
    "plt.legend();"
   ]
  },
  {
   "cell_type": "markdown",
   "metadata": {},
   "source": [
    "##### we can see that woody has more stable popularity than the other two between the 0.3 and 0.6 popularity for more than 10 movies but the other two have a lot of variations"
   ]
  },
  {
   "cell_type": "code",
   "execution_count": 69,
   "metadata": {},
   "outputs": [],
   "source": [
    "\n",
    "means_list.append(df_w['popularity'].mean())\n",
    "means_list.append(df_c['popularity'].mean())\n",
    "means_list.append(df_m['popularity'].mean()) "
   ]
  },
  {
   "cell_type": "markdown",
   "metadata": {},
   "source": [
    "##### adding the 3 popularity means into a list"
   ]
  },
  {
   "cell_type": "code",
   "execution_count": 73,
   "metadata": {},
   "outputs": [
    {
     "data": {
      "text/plain": [
       "[0.5590871521739128, 0.8300373235294114, 1.0974256333333332]"
      ]
     },
     "execution_count": 73,
     "metadata": {},
     "output_type": "execute_result"
    }
   ],
   "source": [
    "\n",
    "means_list"
   ]
  },
  {
   "cell_type": "markdown",
   "metadata": {},
   "source": [
    "### To be able to visualize more, plotting a clear bar chart will help see the difference"
   ]
  },
  {
   "cell_type": "code",
   "execution_count": 85,
   "metadata": {},
   "outputs": [
    {
     "data": {
      "image/png": "[encoded data removed]",
      "text/plain": [
       "<Figure size 432x288 with 1 Axes>"
      ]
     },
     "metadata": {
      "needs_background": "light"
     },
     "output_type": "display_data"
    }
   ],
   "source": [
    "fig = plt.figure()\n",
    "ax = fig.add_axes([0,0,1,1])\n",
    "ax.bar(directors_top,means_list,label = 'Director')\n",
    "plt.title(\" Directors Popularity Means\", fontsize = 30)\n",
    "plt.ylabel(\"Popularity\", fontsize =25)\n",
    "plt.xlabel('Directors', fontsize = 25)\n",
    "plt.legend(prop={'size': 15})\n",
    "plt.show()"
   ]
  },
  {
   "cell_type": "markdown",
   "metadata": {},
   "source": [
    "#### we can see here more clearly that it is not always the director who made a lot of movies have the best popularity, it depends on the quality of the movie that the director directed and other prespectives"
   ]
  },
  {
   "cell_type": "markdown",
   "metadata": {},
   "source": [
    "##### The turn to see if the director is related with Revenue"
   ]
  },
  {
   "cell_type": "code",
   "execution_count": 77,
   "metadata": {},
   "outputs": [
    {
     "data": {
      "text/html": [
       "<div>\n",
       "<style scoped>\n",
       "    .dataframe tbody tr th:only-of-type {\n",
       "        vertical-align: middle;\n",
       "    }\n",
       "\n",
       "    .dataframe tbody tr th {\n",
       "        vertical-align: top;\n",
       "    }\n",
       "\n",
       "    .dataframe thead tr th {\n",
       "        text-align: left;\n",
       "    }\n",
       "\n",
       "    .dataframe thead tr:last-of-type th {\n",
       "        text-align: right;\n",
       "    }\n",
       "</style>\n",
       "<table border=\"1\" class=\"dataframe\">\n",
       "  <thead>\n",
       "    <tr>\n",
       "      <th></th>\n",
       "      <th colspan=\"8\" halign=\"left\">popularity</th>\n",
       "      <th colspan=\"2\" halign=\"left\">budget</th>\n",
       "      <th>...</th>\n",
       "      <th colspan=\"2\" halign=\"left\">vote_average</th>\n",
       "      <th colspan=\"8\" halign=\"left\">release_year</th>\n",
       "    </tr>\n",
       "    <tr>\n",
       "      <th></th>\n",
       "      <th>count</th>\n",
       "      <th>mean</th>\n",
       "      <th>std</th>\n",
       "      <th>min</th>\n",
       "      <th>25%</th>\n",
       "      <th>50%</th>\n",
       "      <th>75%</th>\n",
       "      <th>max</th>\n",
       "      <th>count</th>\n",
       "      <th>mean</th>\n",
       "      <th>...</th>\n",
       "      <th>75%</th>\n",
       "      <th>max</th>\n",
       "      <th>count</th>\n",
       "      <th>mean</th>\n",
       "      <th>std</th>\n",
       "      <th>min</th>\n",
       "      <th>25%</th>\n",
       "      <th>50%</th>\n",
       "      <th>75%</th>\n",
       "      <th>max</th>\n",
       "    </tr>\n",
       "    <tr>\n",
       "      <th>director</th>\n",
       "      <th></th>\n",
       "      <th></th>\n",
       "      <th></th>\n",
       "      <th></th>\n",
       "      <th></th>\n",
       "      <th></th>\n",
       "      <th></th>\n",
       "      <th></th>\n",
       "      <th></th>\n",
       "      <th></th>\n",
       "      <th></th>\n",
       "      <th></th>\n",
       "      <th></th>\n",
       "      <th></th>\n",
       "      <th></th>\n",
       "      <th></th>\n",
       "      <th></th>\n",
       "      <th></th>\n",
       "      <th></th>\n",
       "      <th></th>\n",
       "      <th></th>\n",
       "    </tr>\n",
       "  </thead>\n",
       "  <tbody>\n",
       "    <tr>\n",
       "      <th>FrÃ©dÃ©ric Jardin</th>\n",
       "      <td>1.0</td>\n",
       "      <td>0.434506</td>\n",
       "      <td>NaN</td>\n",
       "      <td>0.434506</td>\n",
       "      <td>0.434506</td>\n",
       "      <td>0.434506</td>\n",
       "      <td>0.434506</td>\n",
       "      <td>0.434506</td>\n",
       "      <td>1.0</td>\n",
       "      <td>2.500000e+06</td>\n",
       "      <td>...</td>\n",
       "      <td>5.9</td>\n",
       "      <td>5.9</td>\n",
       "      <td>1.0</td>\n",
       "      <td>2011.000000</td>\n",
       "      <td>NaN</td>\n",
       "      <td>2011.0</td>\n",
       "      <td>2011.0</td>\n",
       "      <td>2011.0</td>\n",
       "      <td>2011.0</td>\n",
       "      <td>2011.0</td>\n",
       "    </tr>\n",
       "    <tr>\n",
       "      <th>A. Todd Smith</th>\n",
       "      <td>1.0</td>\n",
       "      <td>1.876037</td>\n",
       "      <td>NaN</td>\n",
       "      <td>1.876037</td>\n",
       "      <td>1.876037</td>\n",
       "      <td>1.876037</td>\n",
       "      <td>1.876037</td>\n",
       "      <td>1.876037</td>\n",
       "      <td>1.0</td>\n",
       "      <td>1.462429e+07</td>\n",
       "      <td>...</td>\n",
       "      <td>5.4</td>\n",
       "      <td>5.4</td>\n",
       "      <td>1.0</td>\n",
       "      <td>2015.000000</td>\n",
       "      <td>NaN</td>\n",
       "      <td>2015.0</td>\n",
       "      <td>2015.0</td>\n",
       "      <td>2015.0</td>\n",
       "      <td>2015.0</td>\n",
       "      <td>2015.0</td>\n",
       "    </tr>\n",
       "    <tr>\n",
       "      <th>A.R. Murugadoss</th>\n",
       "      <td>1.0</td>\n",
       "      <td>0.215030</td>\n",
       "      <td>NaN</td>\n",
       "      <td>0.215030</td>\n",
       "      <td>0.215030</td>\n",
       "      <td>0.215030</td>\n",
       "      <td>0.215030</td>\n",
       "      <td>0.215030</td>\n",
       "      <td>1.0</td>\n",
       "      <td>9.100000e+06</td>\n",
       "      <td>...</td>\n",
       "      <td>6.9</td>\n",
       "      <td>6.9</td>\n",
       "      <td>1.0</td>\n",
       "      <td>2008.000000</td>\n",
       "      <td>NaN</td>\n",
       "      <td>2008.0</td>\n",
       "      <td>2008.0</td>\n",
       "      <td>2008.0</td>\n",
       "      <td>2008.0</td>\n",
       "      <td>2008.0</td>\n",
       "    </tr>\n",
       "    <tr>\n",
       "      <th>Aaron Aites</th>\n",
       "      <td>1.0</td>\n",
       "      <td>0.108700</td>\n",
       "      <td>NaN</td>\n",
       "      <td>0.108700</td>\n",
       "      <td>0.108700</td>\n",
       "      <td>0.108700</td>\n",
       "      <td>0.108700</td>\n",
       "      <td>0.108700</td>\n",
       "      <td>1.0</td>\n",
       "      <td>1.462429e+07</td>\n",
       "      <td>...</td>\n",
       "      <td>6.5</td>\n",
       "      <td>6.5</td>\n",
       "      <td>1.0</td>\n",
       "      <td>2008.000000</td>\n",
       "      <td>NaN</td>\n",
       "      <td>2008.0</td>\n",
       "      <td>2008.0</td>\n",
       "      <td>2008.0</td>\n",
       "      <td>2008.0</td>\n",
       "      <td>2008.0</td>\n",
       "    </tr>\n",
       "    <tr>\n",
       "      <th>Aaron Blaise</th>\n",
       "      <td>1.0</td>\n",
       "      <td>1.653031</td>\n",
       "      <td>NaN</td>\n",
       "      <td>1.653031</td>\n",
       "      <td>1.653031</td>\n",
       "      <td>1.653031</td>\n",
       "      <td>1.653031</td>\n",
       "      <td>1.653031</td>\n",
       "      <td>1.0</td>\n",
       "      <td>1.000000e+08</td>\n",
       "      <td>...</td>\n",
       "      <td>6.8</td>\n",
       "      <td>6.8</td>\n",
       "      <td>1.0</td>\n",
       "      <td>2003.000000</td>\n",
       "      <td>NaN</td>\n",
       "      <td>2003.0</td>\n",
       "      <td>2003.0</td>\n",
       "      <td>2003.0</td>\n",
       "      <td>2003.0</td>\n",
       "      <td>2003.0</td>\n",
       "    </tr>\n",
       "    <tr>\n",
       "      <th>...</th>\n",
       "      <td>...</td>\n",
       "      <td>...</td>\n",
       "      <td>...</td>\n",
       "      <td>...</td>\n",
       "      <td>...</td>\n",
       "      <td>...</td>\n",
       "      <td>...</td>\n",
       "      <td>...</td>\n",
       "      <td>...</td>\n",
       "      <td>...</td>\n",
       "      <td>...</td>\n",
       "      <td>...</td>\n",
       "      <td>...</td>\n",
       "      <td>...</td>\n",
       "      <td>...</td>\n",
       "      <td>...</td>\n",
       "      <td>...</td>\n",
       "      <td>...</td>\n",
       "      <td>...</td>\n",
       "      <td>...</td>\n",
       "      <td>...</td>\n",
       "    </tr>\n",
       "    <tr>\n",
       "      <th>Ã‡aÄŸan Irmak</th>\n",
       "      <td>1.0</td>\n",
       "      <td>0.265008</td>\n",
       "      <td>NaN</td>\n",
       "      <td>0.265008</td>\n",
       "      <td>0.265008</td>\n",
       "      <td>0.265008</td>\n",
       "      <td>0.265008</td>\n",
       "      <td>0.265008</td>\n",
       "      <td>1.0</td>\n",
       "      <td>1.462429e+07</td>\n",
       "      <td>...</td>\n",
       "      <td>8.2</td>\n",
       "      <td>8.2</td>\n",
       "      <td>1.0</td>\n",
       "      <td>2005.000000</td>\n",
       "      <td>NaN</td>\n",
       "      <td>2005.0</td>\n",
       "      <td>2005.0</td>\n",
       "      <td>2005.0</td>\n",
       "      <td>2005.0</td>\n",
       "      <td>2005.0</td>\n",
       "    </tr>\n",
       "    <tr>\n",
       "      <th>Ã‰mile Gaudreault</th>\n",
       "      <td>1.0</td>\n",
       "      <td>0.276911</td>\n",
       "      <td>NaN</td>\n",
       "      <td>0.276911</td>\n",
       "      <td>0.276911</td>\n",
       "      <td>0.276911</td>\n",
       "      <td>0.276911</td>\n",
       "      <td>0.276911</td>\n",
       "      <td>1.0</td>\n",
       "      <td>4.361898e+06</td>\n",
       "      <td>...</td>\n",
       "      <td>5.2</td>\n",
       "      <td>5.2</td>\n",
       "      <td>1.0</td>\n",
       "      <td>2003.000000</td>\n",
       "      <td>NaN</td>\n",
       "      <td>2003.0</td>\n",
       "      <td>2003.0</td>\n",
       "      <td>2003.0</td>\n",
       "      <td>2003.0</td>\n",
       "      <td>2003.0</td>\n",
       "    </tr>\n",
       "    <tr>\n",
       "      <th>Ã‰ric Besnard</th>\n",
       "      <td>1.0</td>\n",
       "      <td>0.081724</td>\n",
       "      <td>NaN</td>\n",
       "      <td>0.081724</td>\n",
       "      <td>0.081724</td>\n",
       "      <td>0.081724</td>\n",
       "      <td>0.081724</td>\n",
       "      <td>0.081724</td>\n",
       "      <td>1.0</td>\n",
       "      <td>1.462429e+07</td>\n",
       "      <td>...</td>\n",
       "      <td>5.1</td>\n",
       "      <td>5.1</td>\n",
       "      <td>1.0</td>\n",
       "      <td>2010.000000</td>\n",
       "      <td>NaN</td>\n",
       "      <td>2010.0</td>\n",
       "      <td>2010.0</td>\n",
       "      <td>2010.0</td>\n",
       "      <td>2010.0</td>\n",
       "      <td>2010.0</td>\n",
       "    </tr>\n",
       "    <tr>\n",
       "      <th>Ã‰tienne Chatiliez</th>\n",
       "      <td>3.0</td>\n",
       "      <td>0.102346</td>\n",
       "      <td>0.080174</td>\n",
       "      <td>0.047949</td>\n",
       "      <td>0.056310</td>\n",
       "      <td>0.064672</td>\n",
       "      <td>0.129545</td>\n",
       "      <td>0.194418</td>\n",
       "      <td>3.0</td>\n",
       "      <td>1.420452e+07</td>\n",
       "      <td>...</td>\n",
       "      <td>7.2</td>\n",
       "      <td>7.2</td>\n",
       "      <td>3.0</td>\n",
       "      <td>1994.666667</td>\n",
       "      <td>6.506407</td>\n",
       "      <td>1988.0</td>\n",
       "      <td>1991.5</td>\n",
       "      <td>1995.0</td>\n",
       "      <td>1998.0</td>\n",
       "      <td>2001.0</td>\n",
       "    </tr>\n",
       "    <tr>\n",
       "      <th>Ã€lex Pastor</th>\n",
       "      <td>1.0</td>\n",
       "      <td>0.619369</td>\n",
       "      <td>NaN</td>\n",
       "      <td>0.619369</td>\n",
       "      <td>0.619369</td>\n",
       "      <td>0.619369</td>\n",
       "      <td>0.619369</td>\n",
       "      <td>0.619369</td>\n",
       "      <td>1.0</td>\n",
       "      <td>1.462429e+07</td>\n",
       "      <td>...</td>\n",
       "      <td>5.7</td>\n",
       "      <td>5.7</td>\n",
       "      <td>1.0</td>\n",
       "      <td>2009.000000</td>\n",
       "      <td>NaN</td>\n",
       "      <td>2009.0</td>\n",
       "      <td>2009.0</td>\n",
       "      <td>2009.0</td>\n",
       "      <td>2009.0</td>\n",
       "      <td>2009.0</td>\n",
       "    </tr>\n",
       "  </tbody>\n",
       "</table>\n",
       "<p>4838 rows × 64 columns</p>\n",
       "</div>"
      ],
      "text/plain": [
       "                   popularity                                          \\\n",
       "                        count      mean       std       min       25%   \n",
       "director                                                                \n",
       " FrÃ©dÃ©ric Jardin        1.0  0.434506       NaN  0.434506  0.434506   \n",
       "A. Todd Smith             1.0  1.876037       NaN  1.876037  1.876037   \n",
       "A.R. Murugadoss           1.0  0.215030       NaN  0.215030  0.215030   \n",
       "Aaron Aites               1.0  0.108700       NaN  0.108700  0.108700   \n",
       "Aaron Blaise              1.0  1.653031       NaN  1.653031  1.653031   \n",
       "...                       ...       ...       ...       ...       ...   \n",
       "Ã‡aÄŸan Irmak             1.0  0.265008       NaN  0.265008  0.265008   \n",
       "Ã‰mile Gaudreault         1.0  0.276911       NaN  0.276911  0.276911   \n",
       "Ã‰ric Besnard             1.0  0.081724       NaN  0.081724  0.081724   \n",
       "Ã‰tienne Chatiliez        3.0  0.102346  0.080174  0.047949  0.056310   \n",
       "Ã€lex Pastor              1.0  0.619369       NaN  0.619369  0.619369   \n",
       "\n",
       "                                                 budget                ...  \\\n",
       "                         50%       75%       max  count          mean  ...   \n",
       "director                                                               ...   \n",
       " FrÃ©dÃ©ric Jardin  0.434506  0.434506  0.434506    1.0  2.500000e+06  ...   \n",
       "A. Todd Smith       1.876037  1.876037  1.876037    1.0  1.462429e+07  ...   \n",
       "A.R. Murugadoss     0.215030  0.215030  0.215030    1.0  9.100000e+06  ...   \n",
       "Aaron Aites         0.108700  0.108700  0.108700    1.0  1.462429e+07  ...   \n",
       "Aaron Blaise        1.653031  1.653031  1.653031    1.0  1.000000e+08  ...   \n",
       "...                      ...       ...       ...    ...           ...  ...   \n",
       "Ã‡aÄŸan Irmak       0.265008  0.265008  0.265008    1.0  1.462429e+07  ...   \n",
       "Ã‰mile Gaudreault   0.276911  0.276911  0.276911    1.0  4.361898e+06  ...   \n",
       "Ã‰ric Besnard       0.081724  0.081724  0.081724    1.0  1.462429e+07  ...   \n",
       "Ã‰tienne Chatiliez  0.064672  0.129545  0.194418    3.0  1.420452e+07  ...   \n",
       "Ã€lex Pastor        0.619369  0.619369  0.619369    1.0  1.462429e+07  ...   \n",
       "\n",
       "                   vote_average      release_year                         \\\n",
       "                            75%  max        count         mean       std   \n",
       "director                                                                   \n",
       " FrÃ©dÃ©ric Jardin          5.9  5.9          1.0  2011.000000       NaN   \n",
       "A. Todd Smith               5.4  5.4          1.0  2015.000000       NaN   \n",
       "A.R. Murugadoss             6.9  6.9          1.0  2008.000000       NaN   \n",
       "Aaron Aites                 6.5  6.5          1.0  2008.000000       NaN   \n",
       "Aaron Blaise                6.8  6.8          1.0  2003.000000       NaN   \n",
       "...                         ...  ...          ...          ...       ...   \n",
       "Ã‡aÄŸan Irmak               8.2  8.2          1.0  2005.000000       NaN   \n",
       "Ã‰mile Gaudreault           5.2  5.2          1.0  2003.000000       NaN   \n",
       "Ã‰ric Besnard               5.1  5.1          1.0  2010.000000       NaN   \n",
       "Ã‰tienne Chatiliez          7.2  7.2          3.0  1994.666667  6.506407   \n",
       "Ã€lex Pastor                5.7  5.7          1.0  2009.000000       NaN   \n",
       "\n",
       "                                                            \n",
       "                       min     25%     50%     75%     max  \n",
       "director                                                    \n",
       " FrÃ©dÃ©ric Jardin  2011.0  2011.0  2011.0  2011.0  2011.0  \n",
       "A. Todd Smith       2015.0  2015.0  2015.0  2015.0  2015.0  \n",
       "A.R. Murugadoss     2008.0  2008.0  2008.0  2008.0  2008.0  \n",
       "Aaron Aites         2008.0  2008.0  2008.0  2008.0  2008.0  \n",
       "Aaron Blaise        2003.0  2003.0  2003.0  2003.0  2003.0  \n",
       "...                    ...     ...     ...     ...     ...  \n",
       "Ã‡aÄŸan Irmak       2005.0  2005.0  2005.0  2005.0  2005.0  \n",
       "Ã‰mile Gaudreault   2003.0  2003.0  2003.0  2003.0  2003.0  \n",
       "Ã‰ric Besnard       2010.0  2010.0  2010.0  2010.0  2010.0  \n",
       "Ã‰tienne Chatiliez  1988.0  1991.5  1995.0  1998.0  2001.0  \n",
       "Ã€lex Pastor        2009.0  2009.0  2009.0  2009.0  2009.0  \n",
       "\n",
       "[4838 rows x 64 columns]"
      ]
     },
     "execution_count": 77,
     "metadata": {},
     "output_type": "execute_result"
    }
   ],
   "source": [
    "df.groupby('director').describe()"
   ]
  },
  {
   "cell_type": "code",
   "execution_count": 78,
   "metadata": {},
   "outputs": [
    {
     "data": {
      "text/plain": [
       "(4838, 4838)"
      ]
     },
     "execution_count": 78,
     "metadata": {},
     "output_type": "execute_result"
    }
   ],
   "source": [
    "df_list = []\n",
    "for director in directors:\n",
    "    df_list.append(df.query('director == @director' ))\n",
    "len(directors),len(df_list)"
   ]
  },
  {
   "cell_type": "markdown",
   "metadata": {},
   "source": [
    "##### creating a list of dataframes in which dataframe is the data about a movie a single director made"
   ]
  },
  {
   "cell_type": "code",
   "execution_count": 79,
   "metadata": {},
   "outputs": [
    {
     "data": {
      "text/plain": [
       "4838"
      ]
     },
     "execution_count": 79,
     "metadata": {},
     "output_type": "execute_result"
    }
   ],
   "source": [
    "director_mean_list = []\n",
    "for i in range(len(df_list)):\n",
    "    director_mean_list.append((directors[i],df_list[i].revenue.mean()))\n",
    "len(director_mean_list)"
   ]
  },
  {
   "cell_type": "markdown",
   "metadata": {},
   "source": [
    "##### getting a tuple with the name and the mean of the revenue"
   ]
  },
  {
   "cell_type": "code",
   "execution_count": 86,
   "metadata": {},
   "outputs": [
    {
     "name": "stdout",
     "output_type": "stream",
     "text": [
      "('Colin Trevorrow', 758768301.0)\n",
      "('George Miller', 134910470.7777778)\n",
      "('Robert Schwentke', 150633750.8)\n"
     ]
    }
   ],
   "source": [
    "for i in range(3):\n",
    "    print(director_mean_list[i])"
   ]
  },
  {
   "cell_type": "code",
   "execution_count": 87,
   "metadata": {},
   "outputs": [
    {
     "name": "stdout",
     "output_type": "stream",
     "text": [
      "('David Yates', 838824504.2153704)\n",
      "('Lee Unkrich', 812994083.5)\n",
      "('Colin Trevorrow', 758768301.0)\n",
      "('Robert Stromberg', 758410378.0)\n",
      "('Pierre Coffin', 757137935.0)\n",
      "('Dan Scanlon', 743559607.0)\n",
      "('Bob Peterson', 731342744.0)\n",
      "('J.J. Abrams', 715833983.2)\n",
      "('Joe Russo', 714766572.0)\n",
      "('Chris Miller', 676972821.0)\n"
     ]
    }
   ],
   "source": [
    "director_mean_list.sort(key=lambda i:i[1],reverse=True)\n",
    "for i in range(10):\n",
    "    print(director_mean_list[i]) "
   ]
  },
  {
   "cell_type": "markdown",
   "metadata": {},
   "source": [
    "##### sorting the list of tuples with descending method"
   ]
  },
  {
   "cell_type": "code",
   "execution_count": 88,
   "metadata": {},
   "outputs": [],
   "source": [
    "x_val, y_val = list(zip(*director_mean_list[:11]))\n"
   ]
  },
  {
   "cell_type": "markdown",
   "metadata": {},
   "source": [
    "##### creating two lists for director names and revenue means"
   ]
  },
  {
   "cell_type": "code",
   "execution_count": 89,
   "metadata": {},
   "outputs": [
    {
     "data": {
      "image/png": "[encoded data removed]",
      "text/plain": [
       "<Figure size 1080x720 with 1 Axes>"
      ]
     },
     "metadata": {
      "needs_background": "light"
     },
     "output_type": "display_data"
    }
   ],
   "source": [
    "fig = plt.figure(figsize = (15,10))\n",
    "ax = fig.add_axes([0,0,1,1])\n",
    "ax.bar(x_val,y_val, alpha = 0.5, color = 'red')\n",
    "plt.title(\"Director VS Revenue\", fontsize = 25)\n",
    "plt.xlabel(\"Director\", fontsize = 20)\n",
    "plt.ylabel('Average Revenue per Movie', fontsize = 20);\n"
   ]
  },
  {
   "cell_type": "markdown",
   "metadata": {},
   "source": [
    "### we can see here that there is no correlation between the number of movies directed by the same director and the revenue !! "
   ]
  },
  {
   "cell_type": "markdown",
   "metadata": {},
   "source": [
    "### Research Question 3  (Is there a relation between popularity and Revenue?!)"
   ]
  },
  {
   "cell_type": "code",
   "execution_count": 90,
   "metadata": {},
   "outputs": [
    {
     "data": {
      "text/html": [
       "<div>\n",
       "<style scoped>\n",
       "    .dataframe tbody tr th:only-of-type {\n",
       "        vertical-align: middle;\n",
       "    }\n",
       "\n",
       "    .dataframe tbody tr th {\n",
       "        vertical-align: top;\n",
       "    }\n",
       "\n",
       "    .dataframe thead th {\n",
       "        text-align: right;\n",
       "    }\n",
       "</style>\n",
       "<table border=\"1\" class=\"dataframe\">\n",
       "  <thead>\n",
       "    <tr style=\"text-align: right;\">\n",
       "      <th></th>\n",
       "      <th>popularity</th>\n",
       "      <th>budget</th>\n",
       "      <th>revenue</th>\n",
       "      <th>profit</th>\n",
       "      <th>movie_title</th>\n",
       "      <th>main_actor</th>\n",
       "      <th>director</th>\n",
       "      <th>runtime</th>\n",
       "      <th>main_genre</th>\n",
       "      <th>production_company</th>\n",
       "      <th>release_month</th>\n",
       "      <th>vote_count</th>\n",
       "      <th>vote_average</th>\n",
       "      <th>release_year</th>\n",
       "    </tr>\n",
       "  </thead>\n",
       "  <tbody>\n",
       "    <tr>\n",
       "      <th>0</th>\n",
       "      <td>32.985763</td>\n",
       "      <td>150000000.0</td>\n",
       "      <td>1.513529e+09</td>\n",
       "      <td>1363528810</td>\n",
       "      <td>Jurassic World</td>\n",
       "      <td>Chris Pratt</td>\n",
       "      <td>Colin Trevorrow</td>\n",
       "      <td>124</td>\n",
       "      <td>Action</td>\n",
       "      <td>Universal Studios</td>\n",
       "      <td>June</td>\n",
       "      <td>5562</td>\n",
       "      <td>6.5</td>\n",
       "      <td>2015</td>\n",
       "    </tr>\n",
       "    <tr>\n",
       "      <th>1</th>\n",
       "      <td>28.419936</td>\n",
       "      <td>150000000.0</td>\n",
       "      <td>3.784364e+08</td>\n",
       "      <td>228436354</td>\n",
       "      <td>Mad Max: Fury Road</td>\n",
       "      <td>Tom Hardy</td>\n",
       "      <td>George Miller</td>\n",
       "      <td>120</td>\n",
       "      <td>Action</td>\n",
       "      <td>Village Roadshow Pictures</td>\n",
       "      <td>May</td>\n",
       "      <td>6185</td>\n",
       "      <td>7.1</td>\n",
       "      <td>2015</td>\n",
       "    </tr>\n",
       "    <tr>\n",
       "      <th>2</th>\n",
       "      <td>13.112507</td>\n",
       "      <td>110000000.0</td>\n",
       "      <td>2.952382e+08</td>\n",
       "      <td>185238201</td>\n",
       "      <td>Insurgent</td>\n",
       "      <td>Shailene Woodley</td>\n",
       "      <td>Robert Schwentke</td>\n",
       "      <td>119</td>\n",
       "      <td>Adventure</td>\n",
       "      <td>Summit Entertainment</td>\n",
       "      <td>March</td>\n",
       "      <td>2480</td>\n",
       "      <td>6.3</td>\n",
       "      <td>2015</td>\n",
       "    </tr>\n",
       "    <tr>\n",
       "      <th>3</th>\n",
       "      <td>11.173104</td>\n",
       "      <td>200000000.0</td>\n",
       "      <td>2.068178e+09</td>\n",
       "      <td>1868178225</td>\n",
       "      <td>Star Wars: The Force Awakens</td>\n",
       "      <td>Harrison Ford</td>\n",
       "      <td>J.J. Abrams</td>\n",
       "      <td>136</td>\n",
       "      <td>Action</td>\n",
       "      <td>Lucasfilm</td>\n",
       "      <td>December</td>\n",
       "      <td>5292</td>\n",
       "      <td>7.5</td>\n",
       "      <td>2015</td>\n",
       "    </tr>\n",
       "    <tr>\n",
       "      <th>4</th>\n",
       "      <td>9.335014</td>\n",
       "      <td>190000000.0</td>\n",
       "      <td>1.506249e+09</td>\n",
       "      <td>1316249360</td>\n",
       "      <td>Furious 7</td>\n",
       "      <td>Vin Diesel</td>\n",
       "      <td>James Wan</td>\n",
       "      <td>137</td>\n",
       "      <td>Action</td>\n",
       "      <td>Universal Pictures</td>\n",
       "      <td>April</td>\n",
       "      <td>2947</td>\n",
       "      <td>7.3</td>\n",
       "      <td>2015</td>\n",
       "    </tr>\n",
       "  </tbody>\n",
       "</table>\n",
       "</div>"
      ],
      "text/plain": [
       "   popularity       budget       revenue      profit  \\\n",
       "0   32.985763  150000000.0  1.513529e+09  1363528810   \n",
       "1   28.419936  150000000.0  3.784364e+08   228436354   \n",
       "2   13.112507  110000000.0  2.952382e+08   185238201   \n",
       "3   11.173104  200000000.0  2.068178e+09  1868178225   \n",
       "4    9.335014  190000000.0  1.506249e+09  1316249360   \n",
       "\n",
       "                    movie_title        main_actor          director  runtime  \\\n",
       "0                Jurassic World       Chris Pratt   Colin Trevorrow      124   \n",
       "1            Mad Max: Fury Road         Tom Hardy     George Miller      120   \n",
       "2                     Insurgent  Shailene Woodley  Robert Schwentke      119   \n",
       "3  Star Wars: The Force Awakens     Harrison Ford       J.J. Abrams      136   \n",
       "4                     Furious 7        Vin Diesel         James Wan      137   \n",
       "\n",
       "  main_genre         production_company release_month  vote_count  \\\n",
       "0     Action          Universal Studios          June        5562   \n",
       "1     Action  Village Roadshow Pictures           May        6185   \n",
       "2  Adventure       Summit Entertainment         March        2480   \n",
       "3     Action                  Lucasfilm      December        5292   \n",
       "4     Action         Universal Pictures         April        2947   \n",
       "\n",
       "   vote_average  release_year  \n",
       "0           6.5          2015  \n",
       "1           7.1          2015  \n",
       "2           6.3          2015  \n",
       "3           7.5          2015  \n",
       "4           7.3          2015  "
      ]
     },
     "execution_count": 90,
     "metadata": {},
     "output_type": "execute_result"
    }
   ],
   "source": [
    "df.head()"
   ]
  },
  {
   "cell_type": "code",
   "execution_count": 91,
   "metadata": {},
   "outputs": [
    {
     "data": {
      "image/png": "[encoded data removed]",
      "text/plain": [
       "<Figure size 432x288 with 1 Axes>"
      ]
     },
     "metadata": {
      "needs_background": "light"
     },
     "output_type": "display_data"
    }
   ],
   "source": [
    "plt.scatter(df['popularity'],df['revenue'], c =\"blue\");\n",
    "plt.title(\"Revenue - Popularity Distribution\", fontsize = 15)\n",
    "plt.xlabel('popularity',fontsize = 20)\n",
    "plt.ylabel('Revenue',fontsize = 20);\n"
   ]
  },
  {
   "cell_type": "markdown",
   "metadata": {},
   "source": [
    " #### it can be seen that there is a relatively low positive correlation between the two vairables, as long as the popularity is up the revenue is going up as well (EX: As Marvel Movies Nowadays)"
   ]
  },
  {
   "cell_type": "markdown",
   "metadata": {},
   "source": [
    "### Research Question 4  (what season has the most propability to drop new movies?!)"
   ]
  },
  {
   "cell_type": "code",
   "execution_count": 95,
   "metadata": {},
   "outputs": [
    {
     "data": {
      "text/plain": [
       "September    1331\n",
       "October      1153\n",
       "December      985\n",
       "January       919\n",
       "August        918\n",
       "June          827\n",
       "March         822\n",
       "November      814\n",
       "May           809\n",
       "July          799\n",
       "April         797\n",
       "February      691\n",
       "Name: release_month, dtype: int64"
      ]
     },
     "execution_count": 95,
     "metadata": {},
     "output_type": "execute_result"
    }
   ],
   "source": [
    "# know the distribution\n",
    "\n",
    "df['release_month'].value_counts()"
   ]
  },
  {
   "cell_type": "markdown",
   "metadata": {},
   "source": [
    "##### getting number of movies released in every month"
   ]
  },
  {
   "cell_type": "code",
   "execution_count": 96,
   "metadata": {},
   "outputs": [
    {
     "data": {
      "text/plain": [
       "[1331, 1153, 985, 919, 918, 827, 822, 814, 809, 799, 797, 691]"
      ]
     },
     "execution_count": 96,
     "metadata": {},
     "output_type": "execute_result"
    }
   ],
   "source": [
    "\n",
    "season_movies = list(df['release_month'].value_counts())\n",
    "season_movies"
   ]
  },
  {
   "cell_type": "markdown",
   "metadata": {},
   "source": [
    "##### to get list of the counts of movies released in the correspondant month"
   ]
  },
  {
   "cell_type": "code",
   "execution_count": 97,
   "metadata": {},
   "outputs": [
    {
     "data": {
      "text/plain": [
       "['September',\n",
       " 'October',\n",
       " 'December',\n",
       " 'January',\n",
       " 'August',\n",
       " 'June',\n",
       " 'March',\n",
       " 'November',\n",
       " 'May',\n",
       " 'July',\n",
       " 'April',\n",
       " 'February']"
      ]
     },
     "execution_count": 97,
     "metadata": {},
     "output_type": "execute_result"
    }
   ],
   "source": [
    "\n",
    "months = list(df[\"release_month\"].value_counts().index)\n",
    "months"
   ]
  },
  {
   "cell_type": "markdown",
   "metadata": {},
   "source": [
    "##### list of the months"
   ]
  },
  {
   "cell_type": "code",
   "execution_count": 99,
   "metadata": {},
   "outputs": [
    {
     "data": {
      "image/png": "[encoded data removed]",
      "text/plain": [
       "<Figure size 720x504 with 1 Axes>"
      ]
     },
     "metadata": {},
     "output_type": "display_data"
    }
   ],
   "source": [
    "\n",
    "explode = (0.1, 0.0, 0.2, 0.3, 0.0, 0.0,0.1,0.2,0.3,0.0,0.2,0.3)\n",
    "colors = ( \"orange\", \"cyan\", \"brown\",\n",
    "          \"grey\", \"indigo\", \"beige\",'red','black','yellow',\n",
    "         'green','blue','darkblue')\n",
    " \n",
    "wp = { 'linewidth' : 1, 'edgecolor' : \"green\" }\n",
    " \n",
    "def func(pct, allvalues):\n",
    "    absolute = int(pct / 100.*np.sum(allvalues))\n",
    "    return \"{:.1f}%\\n({:d} g)\".format(pct, absolute)\n",
    " \n",
    "fig, ax = plt.subplots(figsize =(10, 7))\n",
    "wedges, texts, autotexts = ax.pie(season_movies,\n",
    "                                  autopct = lambda pct: func(pct, season_movies),\n",
    "                                  explode = explode,\n",
    "                                  labels = months,\n",
    "                                  shadow = True,\n",
    "                                  colors = colors,\n",
    "                                  startangle = 90,\n",
    "                                  wedgeprops = wp,\n",
    "                                  textprops = dict(color =\"magenta\"))\n",
    " \n",
    "# Adding legend\n",
    "ax.legend(wedges, months,\n",
    "          title ='Months',\n",
    "          loc =\"center left\",\n",
    "          bbox_to_anchor =(1, 0, 0.5, 1))\n",
    " \n",
    "plt.setp(autotexts, size = 8, weight =\"bold\")\n",
    "ax.set_title(\"Movies Drop Months\",fontsize = 15)\n",
    " \n",
    "\n",
    "plt.show()"
   ]
  },
  {
   "cell_type": "markdown",
   "metadata": {},
   "source": [
    "###### we can see that the fall season is the most probable to release more movies than other season because it has the 4 highest months with movie releases"
   ]
  },
  {
   "cell_type": "markdown",
   "metadata": {},
   "source": [
    "<a id='conclusions'></a>\n",
    "## Conclusions\n"
   ]
  },
  {
   "cell_type": "markdown",
   "metadata": {},
   "source": [
    " \n",
    "\n",
    ">Finally at the end of the investigation we can conclude and answer accurately the questions addressed before \n",
    "\n",
    "\n"
   ]
  },
  {
   "cell_type": "markdown",
   "metadata": {},
   "source": [
    "> 1- We can see that the highest genre with number of movies over the years was the \"Drama\" genre then comes the comedy and after the action genre and there is no correlation between the genre with the most movies made and profit nor revenue, as clearly shown the action genre came in first place in total revenue and profit although it was the genre with the third most number of movies"
   ]
  },
  {
   "cell_type": "markdown",
   "metadata": {},
   "source": [
    ">2- the popularity of the movie does not deppend on the director who made the highest number of movies, ir depends on the quality of the movie directed and more other prespectives and there is no correlation between the number of movies directed by the same director and the revenue "
   ]
  },
  {
   "cell_type": "markdown",
   "metadata": {},
   "source": [
    ">3- there exist a small positive correlation between the popularity of the movie and the revenue it gets, however it is not always stable "
   ]
  },
  {
   "cell_type": "markdown",
   "metadata": {},
   "source": [
    ">4- The fall season is the most probable season to drop new movies in theaters"
   ]
  },
  {
   "cell_type": "markdown",
   "metadata": {},
   "source": [
    "### Limitations\n",
    ">The data investigated was large and it had to be cleaned properly.\n",
    "\n",
    "\n",
    "\n",
    "\n"
   ]
  },
  {
   "cell_type": "markdown",
   "metadata": {},
   "source": [
    ">> 1 - in the investigation above not all the columns were needed to provide the results listed such as (homepage, id, imdb_id, tagline, keywords, overview, budget_adj, revenue_adj) columns were dropped. "
   ]
  },
  {
   "cell_type": "markdown",
   "metadata": {},
   "source": [
    ">> 2 - Ecountered a lot of nan values that were filled by the string 'Not Specified' and found only duplicate row. "
   ]
  },
  {
   "cell_type": "markdown",
   "metadata": {},
   "source": [
    ">> 3 - Also noticed some budgets and revenues with 0 values that make no sense so i filled all 0's with the mean value of the column."
   ]
  },
  {
   "cell_type": "markdown",
   "metadata": {},
   "source": [
    ">> 4 - To simplify, I rewrote these columns (cast, production companies, director, genres, release date) into new columns while taking only the first element in the cell and changing these columns name int (main actor, production company, director, main genre) respectively except the release date column i changed it into date time object then extracted the month value only."
   ]
  },
  {
   "cell_type": "markdown",
   "metadata": {},
   "source": [
    "\n",
    ">> 5 - There were no clear correlation between number of movies made and popularity of director and genre revenue."
   ]
  },
  {
   "cell_type": "markdown",
   "metadata": {},
   "source": [
    ">> 6 - At the other hand there were clear positive correlation between revenue and popularity and profit"
   ]
  },
  {
   "cell_type": "code",
   "execution_count": null,
   "metadata": {},
   "outputs": [],
   "source": [
    "from subprocess import call\n",
    "call(['python', '-m', 'nbconvert', 'Investigate_a_Dataset.ipynb'])"
   ]
  }
 ],
 "metadata": {
  "kernelspec": {
   "display_name": "Python 3 (ipykernel)",
   "language": "python",
   "name": "python3"
  },
  "language_info": {
   "codemirror_mode": {
    "name": "ipython",
    "version": 3
   },
   "file_extension": ".py",
   "mimetype": "text/x-python",
   "name": "python",
   "nbconvert_exporter": "python",
   "pygments_lexer": "ipython3",
   "version": "3.9.12"
  }
 },
 "nbformat": 4,
 "nbformat_minor": 2
}
